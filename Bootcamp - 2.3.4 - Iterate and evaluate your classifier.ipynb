{
 "cells": [
  {
   "cell_type": "code",
   "execution_count": 96,
   "metadata": {},
   "outputs": [],
   "source": [
    "import pandas as pd\n",
    "import numpy as np\n",
    "import matplotlib.pyplot as plt\n",
    "import seaborn as sns\n",
    "import scipy.stats as stats\n",
    "import sklearn\n",
    "%matplotlib inline\n",
    "from sklearn.preprocessing import StandardScaler\n",
    "from sklearn.decomposition import PCA"
   ]
  },
  {
   "cell_type": "code",
   "execution_count": 97,
   "metadata": {},
   "outputs": [],
   "source": [
    "data_path = (\"https://raw.githubusercontent.com/Thinkful-Ed/data-201-resources/\"\n",
    "             \"master/sms_spam_collection/SMSSpamCollection\"\n",
    "            )\n",
    "sms_raw = pd.read_csv(data_path, delimiter = '\\t', header = None)\n",
    "sms_raw.columns = ['spam', 'message']"
   ]
  },
  {
   "cell_type": "code",
   "execution_count": 98,
   "metadata": {},
   "outputs": [],
   "source": [
    "#Testing out which model works better.\n"
   ]
  },
  {
   "cell_type": "code",
   "execution_count": 126,
   "metadata": {},
   "outputs": [],
   "source": [
    "#keywords = ['click', 'offer', 'winner', 'buy', 'free', 'cash', 'urgent', 'win']\n",
    "#keywords1 = ['click', 'offer', 'winner', 'buy', 'free', 'cash', 'urgent', 'win', 'boss', 'strings', 'opportunity', 'double','easy', '08717205546','08714712388', '09050002311', 'girl']\n",
    "#keywords2 = ['click', 'offer', 'winner', 'buy', 'free', 'cash', 'urgent', 'win', 'boss', 'strings']\n",
    "#keywords3 = ['click']\n",
    "#keywords4 = ['click', 'offer', 'winner', 'buy', 'free', 'cash', 'urgent', 'win', 'boss', 'strings', 'opportunity', 'double','easy']\n",
    "#case = False - case does not matter\n",
    "\n",
    "keywords1 = ['click', 'offer', 'winner', 'buy', 'free', 'cash', 'urgent', 'win', 'boss', 'strings', 'opportunity', 'double','easy']\n",
    "\n",
    "for key1 in keywords1:\n",
    "    sms_raw[str(key1)] = sms_raw.message.str.contains(\n",
    "        str(key1), case=False\n",
    "    )"
   ]
  },
  {
   "cell_type": "code",
   "execution_count": 127,
   "metadata": {},
   "outputs": [],
   "source": [
    "data1 = sms_raw[keywords1]\n",
    "target1 = sms_raw['spam']"
   ]
  },
  {
   "cell_type": "code",
   "execution_count": 128,
   "metadata": {},
   "outputs": [
    {
     "name": "stdout",
     "output_type": "stream",
     "text": [
      "Number of mislabeled points out of a total of 5572 points : 506\n"
     ]
    }
   ],
   "source": [
    "#import the Bernoulli classifier since data is binary/boolean\n",
    "from sklearn.naive_bayes import BernoulliNB\n",
    "\n",
    "# Instantiate our model and store it in a new variable.\n",
    "bnb = BernoulliNB()\n",
    "\n",
    "# Fit our model to the data.\n",
    "bnb.fit(data1, target1)\n",
    "\n",
    "#Classify storing the result in a new variable.\n",
    "y_pred = bnb.predict(data1)\n",
    "\n",
    "print(\"Number of mislabeled points out of a total of {} points : {}\".format(\n",
    "     data1.shape[0],\n",
    "     (target1 != y_pred).sum()\n",
    "))"
   ]
  },
  {
   "cell_type": "code",
   "execution_count": 129,
   "metadata": {},
   "outputs": [
    {
     "name": "stdout",
     "output_type": "stream",
     "text": [
      "(4457, 13) (4457,)\n",
      "(1115, 13) (1115,)\n"
     ]
    }
   ],
   "source": [
    "from sklearn import datasets, linear_model\n",
    "from sklearn.model_selection import train_test_split\n",
    "X1 = data1\n",
    "y1 = target1\n",
    "X1_train, X1_test, y1_train, y1_test = train_test_split(X1, y1, test_size=0.2)\n",
    "print(X1_train.shape, y1_train.shape)\n",
    "print(X1_test.shape, y1_test.shape)"
   ]
  },
  {
   "cell_type": "code",
   "execution_count": 124,
   "metadata": {},
   "outputs": [
    {
     "name": "stdout",
     "output_type": "stream",
     "text": [
      "Score: 0.871748878924\n",
      "Score: 0.894170403587\n",
      "Score: 0.84829443447\n",
      "Score: 0.850089766607\n",
      "Score: 0.867145421903\n"
     ]
    }
   ],
   "source": [
    "from sklearn.naive_bayes import BernoulliNB\n",
    "#Cross validation model\n",
    "from sklearn.model_selection import KFold # import KFold\n",
    "kf = KFold(n_splits = 5, shuffle=True, random_state = 40)\n",
    "bnb = BernoulliNB() \n",
    "for train_index, test_index in kf.split(X1):\n",
    "    X1_train, X1_test = X1.iloc[train_index], X1.iloc[test_index]\n",
    "    y1_train, y1_test = y1.iloc[train_index], y1.iloc[test_index]\n",
    "    bnb = bnb.fit(X1_train, y1_train)\n",
    "    print(\"Score:\", bnb.score(X1_test, y1_test))"
   ]
  },
  {
   "cell_type": "code",
   "execution_count": 125,
   "metadata": {},
   "outputs": [],
   "source": [
    "#keywords: Number of mislabeled points out of a total of 5572 points : 500\n",
    "#keywords 1: Number of mislabeled points out of a total of 5572 points : 505\n",
    "#keywords 2: Number of mislabeled points out of a total of 5572 points : 499\n",
    "#keywords 3: Number of mislabeled points out of a total of 5572 points : 745\n",
    "#keyword 4: Number of mislabeled points out of a total of 5572 points : 506"
   ]
  },
  {
   "cell_type": "code",
   "execution_count": null,
   "metadata": {},
   "outputs": [],
   "source": []
  }
 ],
 "metadata": {
  "kernelspec": {
   "display_name": "Python 3",
   "language": "python",
   "name": "python3"
  },
  "language_info": {
   "codemirror_mode": {
    "name": "ipython",
    "version": 3
   },
   "file_extension": ".py",
   "mimetype": "text/x-python",
   "name": "python",
   "nbconvert_exporter": "python",
   "pygments_lexer": "ipython3",
   "version": "3.6.3"
  }
 },
 "nbformat": 4,
 "nbformat_minor": 2
}
