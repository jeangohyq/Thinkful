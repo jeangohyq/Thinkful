{
 "cells": [
  {
   "cell_type": "code",
   "execution_count": 28,
   "metadata": {},
   "outputs": [],
   "source": [
    "import math\n",
    "import warnings\n",
    "\n",
    "from IPython.display import display\n",
    "from matplotlib import pyplot as plt\n",
    "import numpy as np\n",
    "import pandas as pd\n",
    "import seaborn as sns\n",
    "from sklearn import linear_model\n",
    "import statsmodels.formula.api as smf\n",
    "from scipy.stats import mstats\n",
    "import statsmodels.api as sm\n",
    "\n",
    "# Display preferences.\n",
    "%matplotlib inline\n",
    "pd.options.display.float_format = '{:.3f}'.format\n",
    "\n",
    "# Suppress annoying harmless error.\n",
    "warnings.filterwarnings(\n",
    "    action=\"ignore\",\n",
    "    module=\"scipy\",\n",
    "    message=\"^internal gelsd\"\n",
    ")"
   ]
  },
  {
   "cell_type": "code",
   "execution_count": 29,
   "metadata": {},
   "outputs": [],
   "source": [
    "#Testing in the model on Florida Crimes\n",
    "df = pd.read_csv(\"florida crimes.csv\")"
   ]
  },
  {
   "cell_type": "code",
   "execution_count": 30,
   "metadata": {},
   "outputs": [],
   "source": [
    "df = df.drop(['Rape\\r(legacy\\rdefinition)2'], axis=1)"
   ]
  },
  {
   "cell_type": "code",
   "execution_count": 31,
   "metadata": {},
   "outputs": [],
   "source": [
    "df = df.rename(columns={'Violent\\rcrime': 'Violent_Crime', \n",
    "                        'Murder and\\rnonnegligent\\rmanslaughter': 'Murder',\n",
    "                       'Rape\\r(revised\\rdefinition)1' : 'Rape',\n",
    "                       'Aggravated\\rassault' : 'Aggravated_Assault',\n",
    "                       'Property\\rcrime': 'Property_Crime',\n",
    "                       'Larceny-\\rtheft': 'Larceny_Theft',\n",
    "                       'Motor\\rvehicle\\rtheft': 'Motor_Vehicle_Theft',\n",
    "                       'Arson3': 'Arson'})"
   ]
  },
  {
   "cell_type": "code",
   "execution_count": 32,
   "metadata": {},
   "outputs": [],
   "source": [
    "df['Robbery'] = df['Robbery'].str.replace(',', '')\n",
    "df['Larceny_Theft'] = df['Larceny_Theft'].str.replace(',', '')\n",
    "df['Property_Crime'] = df['Property_Crime'].str.replace(',', '')\n",
    "df['Burglary'] = df['Burglary'].str.replace(',', '')\n",
    "df['Population'] = df['Population'].str.replace(',', '')\n",
    "df['Poperty_Crime'] = df['Property_Crime'].str.replace(',', '')\n",
    "df['Aggravated_Assault'] = df['Aggravated_Assault'].str.replace(',', '')"
   ]
  },
  {
   "cell_type": "code",
   "execution_count": 33,
   "metadata": {},
   "outputs": [],
   "source": [
    "df['Property_Crime'] = pd.to_numeric(df['Property_Crime'])\n",
    "df['Population'] = pd.to_numeric(df['Population'])\n",
    "df['Aggravated_Assault'] = pd.to_numeric(df['Aggravated_Assault'])"
   ]
  },
  {
   "cell_type": "code",
   "execution_count": 34,
   "metadata": {},
   "outputs": [],
   "source": [
    "df['Robbery'] = pd.to_numeric(df['Robbery'])\n",
    "df['Robbery_Cat'] = np.where(df['Robbery']>0, 1, 0)\n",
    "df['Arson']=df['Arson'].fillna(0)\n",
    "df['Property_Crime']=df['Property_Crime'].fillna(0)"
   ]
  },
  {
   "cell_type": "code",
   "execution_count": 35,
   "metadata": {},
   "outputs": [
    {
     "name": "stdout",
     "output_type": "stream",
     "text": [
      "                City  Population Violent_Crime  Murder  Rape  Robbery  \\\n",
      "0            Alachua        9338            36       0     2        2   \n",
      "1  Altamonte Springs       42040           150       0     8       37   \n",
      "2              Altha         536             1       0     0        0   \n",
      "3       Apalachicola        2269             1       0     0        0   \n",
      "4             Apopka       45397           178       1    11       57   \n",
      "\n",
      "   Aggravated_Assault  Property_Crime Burglary Larceny_Theft  \\\n",
      "0                  32         166.000       40           120   \n",
      "1                 105        1564.000      300          1180   \n",
      "2                   1           3.000        3             0   \n",
      "3                   1          35.000        8            27   \n",
      "4                 109        1527.000      231          1202   \n",
      "\n",
      "  Motor_Vehicle_Theft  Arson Poperty_Crime  Robbery_Cat  Murder_Cat  \n",
      "0                   6      1           166            1           0  \n",
      "1                  84      3          1564            1           0  \n",
      "2                   0      0             3            0           0  \n",
      "3                   0      0            35            0           0  \n",
      "4                  94      6          1527            1           1  \n"
     ]
    }
   ],
   "source": [
    "df['Murder'] = pd.to_numeric(df['Murder'])\n",
    "df['Murder_Cat'] = np.where(df['Murder']>0, 1, 0)\n",
    "print(df.head())"
   ]
  },
  {
   "cell_type": "code",
   "execution_count": 36,
   "metadata": {},
   "outputs": [
    {
     "data": {
      "text/plain": [
       "array([[<matplotlib.axes._subplots.AxesSubplot object at 0x11884add8>,\n",
       "        <matplotlib.axes._subplots.AxesSubplot object at 0x118838d68>]], dtype=object)"
      ]
     },
     "execution_count": 36,
     "metadata": {},
     "output_type": "execute_result"
    },
    {
     "data": {
      "image/png": "[encoded data removed]",
      "text/plain": [
       "<matplotlib.figure.Figure at 0x117ed85f8>"
      ]
     },
     "metadata": {},
     "output_type": "display_data"
    }
   ],
   "source": [
    "#Log the population variable \n",
    "plt.rcParams['figure.figsize'] = (6.0, 3.0)\n",
    "population = pd.DataFrame({\"Population\":df[\"Population\"], \"log(population)\":np.log(df[\"Population\"])})\n",
    "population.hist(bins = 10)"
   ]
  },
  {
   "cell_type": "code",
   "execution_count": 37,
   "metadata": {},
   "outputs": [],
   "source": [
    "df['Population'] = np.log(df[\"Population\"])"
   ]
  },
  {
   "cell_type": "code",
   "execution_count": 38,
   "metadata": {},
   "outputs": [],
   "source": [
    "#If your data is suffering from nonlinearity, transform the dependent variables using sqrt, log, square, etc.\n",
    "df['Population_Squared'] = df['Population']**2"
   ]
  },
  {
   "cell_type": "code",
   "execution_count": 39,
   "metadata": {},
   "outputs": [
    {
     "data": {
      "text/plain": [
       "<matplotlib.axes._subplots.AxesSubplot at 0x1188b8828>"
      ]
     },
     "execution_count": 39,
     "metadata": {},
     "output_type": "execute_result"
    },
    {
     "data": {
      "image/png": "[encoded data removed]",
      "text/plain": [
       "<matplotlib.figure.Figure at 0x117ed04e0>"
      ]
     },
     "metadata": {},
     "output_type": "display_data"
    }
   ],
   "source": [
    "#Check if population squared is normally distributed.\n",
    "sns.distplot(df['Population_Squared'], kde = True, color = 'b', hist_kws={'alpha': 0.9})"
   ]
  },
  {
   "cell_type": "code",
   "execution_count": 40,
   "metadata": {},
   "outputs": [
    {
     "data": {
      "text/plain": [
       "array([[<matplotlib.axes._subplots.AxesSubplot object at 0x118844b00>,\n",
       "        <matplotlib.axes._subplots.AxesSubplot object at 0x117b475c0>]], dtype=object)"
      ]
     },
     "execution_count": 40,
     "metadata": {},
     "output_type": "execute_result"
    },
    {
     "data": {
      "image/png": "[encoded data removed]",
      "text/plain": [
       "<matplotlib.figure.Figure at 0x117ca3780>"
      ]
     },
     "metadata": {},
     "output_type": "display_data"
    }
   ],
   "source": [
    "#Log the aggravated assault variable \n",
    "plt.rcParams['figure.figsize'] = (6.0, 3.0)\n",
    "population = pd.DataFrame({\"Aggravated_Assault\":df[\"Aggravated_Assault\"], \n",
    "                           \"log(Aggravated_Assault+1)\":np.log1p(df[\"Aggravated_Assault\"])})\n",
    "population.hist(bins = 10)"
   ]
  },
  {
   "cell_type": "code",
   "execution_count": 41,
   "metadata": {},
   "outputs": [],
   "source": [
    "df['Aggravated_Assault'] = np.log1p(df[\"Aggravated_Assault\"])"
   ]
  },
  {
   "cell_type": "code",
   "execution_count": 42,
   "metadata": {},
   "outputs": [
    {
     "data": {
      "text/plain": [
       "array([[<matplotlib.axes._subplots.AxesSubplot object at 0x117b9bd68>,\n",
       "        <matplotlib.axes._subplots.AxesSubplot object at 0x117c23978>]], dtype=object)"
      ]
     },
     "execution_count": 42,
     "metadata": {},
     "output_type": "execute_result"
    },
    {
     "data": {
      "image/png": "[encoded data removed]",
      "text/plain": [
       "<matplotlib.figure.Figure at 0x117b79748>"
      ]
     },
     "metadata": {},
     "output_type": "display_data"
    }
   ],
   "source": [
    "#Log the property crime variable \n",
    "plt.rcParams['figure.figsize'] = (6.0, 3.0)\n",
    "population = pd.DataFrame({\"Property Crime\":df[\"Property_Crime\"], \"log(property crime+1)\":np.log1p(df[\"Property_Crime\"])})\n",
    "population.hist(bins = 10)"
   ]
  },
  {
   "cell_type": "code",
   "execution_count": 43,
   "metadata": {},
   "outputs": [],
   "source": [
    "df['Property_Crime'] = np.log1p(df[\"Property_Crime\"])"
   ]
  },
  {
   "cell_type": "code",
   "execution_count": 44,
   "metadata": {},
   "outputs": [
    {
     "data": {
      "text/plain": [
       "Intercept            -4.140\n",
       "Population            1.083\n",
       "Population_Squared   -0.018\n",
       "Aggravated_Assault    0.307\n",
       "Murder_Cat            0.070\n",
       "Robbery_Cat           0.395\n",
       "dtype: float64"
      ]
     },
     "execution_count": 44,
     "metadata": {},
     "output_type": "execute_result"
    }
   ],
   "source": [
    "linear_formula = 'Property_Crime ~ Population + Population_Squared + Aggravated_Assault + Murder_Cat + Robbery_Cat'\n",
    "lm = smf.ols(formula=linear_formula, data=df).fit()\n",
    "lm.params"
   ]
  },
  {
   "cell_type": "code",
   "execution_count": 45,
   "metadata": {},
   "outputs": [
    {
     "name": "stdout",
     "output_type": "stream",
     "text": [
      "\n",
      "Coefficients: \n",
      " [[ 1.08348315 -0.01754     0.30657766  0.07006359  0.39472295]]\n",
      "\n",
      "Intercept: \n",
      " [-4.14036293]\n",
      "\n",
      "R-squared:\n",
      "0.916186360982\n"
     ]
    }
   ],
   "source": [
    "regr = linear_model.LinearRegression()\n",
    "x = df[['Population', 'Population_Squared', 'Aggravated_Assault','Murder_Cat', 'Robbery_Cat']]\n",
    "y = df['Property_Crime'].values.reshape(-1,1)\n",
    "regr.fit(x,y)\n",
    "\n",
    "#Inspect the results\n",
    "print('\\nCoefficients: \\n', regr.coef_)\n",
    "print('\\nIntercept: \\n', regr.intercept_)\n",
    "print('\\nR-squared:')\n",
    "print(regr.score(x,y))"
   ]
  },
  {
   "cell_type": "code",
   "execution_count": 46,
   "metadata": {},
   "outputs": [
    {
     "data": {
      "image/png": "[encoded data removed]",
      "text/plain": [
       "<matplotlib.figure.Figure at 0x117cc3828>"
      ]
     },
     "metadata": {},
     "output_type": "display_data"
    },
    {
     "data": {
      "image/png": "[encoded data removed]",
      "text/plain": [
       "<matplotlib.figure.Figure at 0x117d25d68>"
      ]
     },
     "metadata": {},
     "output_type": "display_data"
    }
   ],
   "source": [
    "# Extract predicted values.\n",
    "predicted = regr.predict(x).ravel()\n",
    "predicted = np.expm1(predicted)\n",
    "actual = df['Property_Crime']\n",
    "actual = np.expm1(actual)\n",
    "\n",
    "# Calculate the error, also called the residual.\n",
    "residual = actual - predicted\n",
    "\n",
    "plt.hist(residual)\n",
    "plt.title('Residual counts')\n",
    "plt.xlabel('Residual')\n",
    "plt.ylabel('Count')\n",
    "plt.show()\n",
    "\n",
    "plt.scatter(predicted, residual)\n",
    "plt.xlabel('Predicted')\n",
    "plt.ylabel('Residual')\n",
    "plt.axhline(y=0)\n",
    "plt.title('Residual vs. Predicted')\n",
    "plt.show()"
   ]
  },
  {
   "cell_type": "code",
   "execution_count": null,
   "metadata": {},
   "outputs": [],
   "source": [
    "#KNN model against OLS Mutiple Regression"
   ]
  },
  {
   "cell_type": "code",
   "execution_count": 72,
   "metadata": {},
   "outputs": [
    {
     "data": {
      "text/plain": [
       "KNeighborsRegressor(algorithm='auto', leaf_size=30, metric='minkowski',\n",
       "          metric_params=None, n_jobs=1, n_neighbors=5, p=2,\n",
       "          weights='distance')"
      ]
     },
     "execution_count": 72,
     "metadata": {},
     "output_type": "execute_result"
    }
   ],
   "source": [
    "from sklearn import neighbors\n",
    "\n",
    "# Build our model.\n",
    "knn = neighbors.KNeighborsRegressor(n_neighbors=5, weights = 'distance')\n",
    "X = df[['Population', 'Population_Squared', 'Aggravated_Assault','Murder_Cat', 'Robbery_Cat']]\n",
    "Y = df['Property_Crime'].values.reshape(-1,1)"
   ]
  },
  {
   "cell_type": "code",
   "execution_count": 79,
   "metadata": {},
   "outputs": [
    {
     "name": "stdout",
     "output_type": "stream",
     "text": [
      "(232, 5) (232, 1)\n",
      "(58, 5) (58, 1)\n"
     ]
    }
   ],
   "source": [
    "from sklearn import datasets, linear_model\n",
    "from sklearn.model_selection import train_test_split\n",
    "X_train, X_test, Y_train, Y_test = train_test_split(X, Y, test_size=0.2)\n",
    "print(X_train.shape, Y_train.shape)\n",
    "print(X_test.shape, Y_test.shape)"
   ]
  },
  {
   "cell_type": "code",
   "execution_count": 80,
   "metadata": {},
   "outputs": [],
   "source": [
    "knn.fit(X_train, Y_train)"
   ]
  },
  {
   "cell_type": "code",
   "execution_count": 82,
   "metadata": {},
   "outputs": [],
   "source": [
    "# Trailing underscores are a common convention for a prediction.\n",
    "Y_ = knn.predict(X_test)"
   ]
  },
  {
   "cell_type": "code",
   "execution_count": 85,
   "metadata": {},
   "outputs": [
    {
     "data": {
      "image/png": "[encoded data removed]",
      "text/plain": [
       "<matplotlib.figure.Figure at 0x119a610f0>"
      ]
     },
     "metadata": {},
     "output_type": "display_data"
    }
   ],
   "source": [
    "plt.scatter(X_train['Population'], Y_train, c='k', label='data')\n",
    "plt.plot(X_test['Population'], Y_, c='g', label='prediction')\n",
    "plt.legend()\n",
    "plt.title('K=5, Unweighted')\n",
    "plt.show()"
   ]
  },
  {
   "cell_type": "code",
   "execution_count": 88,
   "metadata": {},
   "outputs": [
    {
     "name": "stdout",
     "output_type": "stream",
     "text": [
      "Weighted Accuracy: 0.86 (+/- 0.08)\n"
     ]
    }
   ],
   "source": [
    "from sklearn.model_selection import cross_val_score\n",
    "score = cross_val_score(knn, X, Y, cv=5)\n",
    "print(\"Weighted Accuracy: %0.2f (+/- %0.2f)\" % (score.mean(), score.std() * 2))"
   ]
  },
  {
   "cell_type": "code",
   "execution_count": null,
   "metadata": {},
   "outputs": [],
   "source": []
  },
  {
   "cell_type": "code",
   "execution_count": null,
   "metadata": {},
   "outputs": [],
   "source": [
    "#OLS regression worked better for this example. \n",
    "#KNN is a non parametric method, while OLS linear regression is a parametric method. \n",
    "#Data assumes linear relationship between X and Y, hence the OLS regression worked better.\n",
    "#KNN does not assume an explicit form for f(X), hence it is often more flexible.\n"
   ]
  }
 ],
 "metadata": {
  "kernelspec": {
   "display_name": "Python 3",
   "language": "python",
   "name": "python3"
  },
  "language_info": {
   "codemirror_mode": {
    "name": "ipython",
    "version": 3
   },
   "file_extension": ".py",
   "mimetype": "text/x-python",
   "name": "python",
   "nbconvert_exporter": "python",
   "pygments_lexer": "ipython3",
   "version": "3.6.3"
  }
 },
 "nbformat": 4,
 "nbformat_minor": 2
}
