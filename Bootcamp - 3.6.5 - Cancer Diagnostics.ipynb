{
 "cells": [
  {
   "cell_type": "code",
   "execution_count": 205,
   "metadata": {},
   "outputs": [],
   "source": [
    "import pandas as pd\n",
    "import numpy as np\n",
    "import seaborn as sns\n",
    "import matplotlib.pyplot as plt\n",
    "from datetime import datetime\n",
    "from sklearn.preprocessing import Imputer\n",
    "from sklearn.decomposition import PCA\n",
    "from sklearn import linear_model, decomposition, datasets\n",
    "from matplotlib.mlab import PCA as mlabPCA\n",
    "from sklearn.preprocessing import StandardScaler\n",
    "from sklearn.pipeline import Pipeline\n",
    "from sklearn.model_selection import train_test_split, cross_val_score, GridSearchCV\n",
    "%matplotlib inline"
   ]
  },
  {
   "cell_type": "code",
   "execution_count": 206,
   "metadata": {},
   "outputs": [],
   "source": [
    "#Goal is to create a model that's able to predict breast cancer.\n",
    "df = pd.read_csv('cancer.csv')"
   ]
  },
  {
   "cell_type": "code",
   "execution_count": 207,
   "metadata": {},
   "outputs": [],
   "source": [
    "#Drop Sample Code\n",
    "df = df.drop('Sample_Code', axis=1)"
   ]
  },
  {
   "cell_type": "code",
   "execution_count": 208,
   "metadata": {},
   "outputs": [],
   "source": [
    "#Convert Malignant Class to 1 and benign to 0\n",
    "df['Class_Cat'] = np.where(df['Class']==4, 1, 0)"
   ]
  },
  {
   "cell_type": "code",
   "execution_count": 209,
   "metadata": {},
   "outputs": [],
   "source": [
    "df['Bare_Nuclei'] = df['Bare_Nuclei'].replace('?', 0)"
   ]
  },
  {
   "cell_type": "code",
   "execution_count": 210,
   "metadata": {},
   "outputs": [],
   "source": [
    "df['Bare_Nuclei'] = pd.to_numeric(df['Bare_Nuclei'])"
   ]
  },
  {
   "cell_type": "code",
   "execution_count": 211,
   "metadata": {},
   "outputs": [],
   "source": [
    "df['Bare_Nuclei'].fillna((df['Bare_Nuclei'].mean()), inplace=True)"
   ]
  },
  {
   "cell_type": "code",
   "execution_count": 212,
   "metadata": {},
   "outputs": [
    {
     "data": {
      "text/plain": [
       "<matplotlib.axes._subplots.AxesSubplot at 0x116673c88>"
      ]
     },
     "execution_count": 212,
     "metadata": {},
     "output_type": "execute_result"
    },
    {
     "data": {
      "image/png": "[encoded data removed]",
      "text/plain": [
       "<matplotlib.figure.Figure at 0x1167f82b0>"
      ]
     },
     "metadata": {},
     "output_type": "display_data"
    }
   ],
   "source": [
    "#Creating a correlation matrix.\n",
    "corrmat = df.corr()\n",
    "#Find correlation between the different variables.\n",
    "f, ax = plt.subplots(figsize=(9,6))\n",
    "sns.heatmap(corrmat, square=True)\n",
    "#Cell Size and Cell Shape are highly correlated."
   ]
  },
  {
   "cell_type": "code",
   "execution_count": 213,
   "metadata": {},
   "outputs": [
    {
     "name": "stdout",
     "output_type": "stream",
     "text": [
      "Optimization terminated successfully.\n",
      "         Current function value: 0.384728\n",
      "         Iterations 8\n",
      "                           Logit Regression Results                           \n",
      "==============================================================================\n",
      "Dep. Variable:              Class_Cat   No. Observations:                  699\n",
      "Model:                          Logit   Df Residuals:                      691\n",
      "Method:                           MLE   Df Model:                            7\n",
      "Date:                Thu, 28 Dec 2017   Pseudo R-squ.:                  0.4027\n",
      "Time:                        23:24:10   Log-Likelihood:                -268.92\n",
      "converged:                       True   LL-Null:                       -450.26\n",
      "                                        LLR p-value:                 2.378e-74\n",
      "===============================================================================================\n",
      "                                  coef    std err          z      P>|z|      [0.025      0.975]\n",
      "-----------------------------------------------------------------------------------------------\n",
      "Clump_Thickness                -0.3182      0.055     -5.771      0.000      -0.426      -0.210\n",
      "Uniformity_Cell_Size            1.0446      0.110      9.494      0.000       0.829       1.260\n",
      "Marginal_Adhesion               0.1133      0.074      1.522      0.128      -0.033       0.259\n",
      "Single_Epithelial_Cell_Size    -0.8048      0.101     -7.999      0.000      -1.002      -0.608\n",
      "Normal_Nucleoli                 0.3484      0.069      5.045      0.000       0.213       0.484\n",
      "Mitoses                        -0.2198      0.085     -2.581      0.010      -0.387      -0.053\n",
      "Bland_Chromatin                -0.5099      0.089     -5.727      0.000      -0.684      -0.335\n",
      "Bare_Nuclei                     0.5695      0.062      9.203      0.000       0.448       0.691\n",
      "===============================================================================================\n"
     ]
    },
    {
     "name": "stderr",
     "output_type": "stream",
     "text": [
      "/Library/Frameworks/Python.framework/Versions/3.6/lib/python3.6/site-packages/ipykernel_launcher.py:18: SettingWithCopyWarning: \n",
      "A value is trying to be set on a copy of a slice from a DataFrame.\n",
      "Try using .loc[row_indexer,col_indexer] = value instead\n",
      "\n",
      "See the caveats in the documentation: http://pandas.pydata.org/pandas-docs/stable/indexing.html#indexing-view-versus-copy\n"
     ]
    }
   ],
   "source": [
    "#Logistic Regression\n",
    "import statsmodels.api as sm\n",
    "from sklearn.linear_model import LogisticRegression\n",
    "from scipy import stats\n",
    "stats.chisqprob = lambda chisq, df: stats.chi2.sf(chisq, df)\n",
    "\n",
    "lr = LogisticRegression(C=1e9)\n",
    "y = df['Class_Cat']\n",
    "X = df[['Clump_Thickness','Uniformity_Cell_Size','Marginal_Adhesion', 'Single_Epithelial_Cell_Size',\n",
    "        'Normal_Nucleoli','Mitoses','Bland_Chromatin','Bare_Nuclei']]\n",
    "\n",
    "# Declare predictors.\n",
    "X_statsmod = df[['Clump_Thickness','Uniformity_Cell_Size','Marginal_Adhesion', 'Single_Epithelial_Cell_Size',\n",
    "        'Normal_Nucleoli','Mitoses','Bland_Chromatin','Bare_Nuclei']]\n",
    "\n",
    "# The Statsmodels formulation requires a column with constant value 1 that\n",
    "# will act as the intercept.\n",
    "X_statsmod['intercept'] = 1 \n",
    "\n",
    "# Declare and fit the model.\n",
    "logit_model=sm.Logit(y,X)\n",
    "result=logit_model.fit()\n",
    "print(result.summary())"
   ]
  },
  {
   "cell_type": "code",
   "execution_count": 214,
   "metadata": {},
   "outputs": [
    {
     "name": "stdout",
     "output_type": "stream",
     "text": [
      "Accuracy of logistic regression classifier on test set: 0.96\n"
     ]
    }
   ],
   "source": [
    "X_train, X_test, y_train, y_test = train_test_split(X, y, test_size=0.2, random_state=0)\n",
    "from sklearn.linear_model import LogisticRegression\n",
    "from sklearn import metrics\n",
    "logreg = LogisticRegression()\n",
    "logreg.fit(X_train, y_train)\n",
    "\n",
    "y_pred = logreg.predict(X_test)\n",
    "print('Accuracy of logistic regression classifier on test set: {:.2f}'.format(logreg.score(X_test, y_test)))"
   ]
  },
  {
   "cell_type": "code",
   "execution_count": 215,
   "metadata": {},
   "outputs": [
    {
     "name": "stdout",
     "output_type": "stream",
     "text": [
      "10-fold cross validation average accuracy: 0.962\n"
     ]
    }
   ],
   "source": [
    "#Cross Validation\n",
    "from sklearn import model_selection\n",
    "from sklearn.model_selection import cross_val_score\n",
    "kfold = model_selection.KFold(n_splits=10, random_state=7)\n",
    "modelCV = LogisticRegression()\n",
    "scoring = 'accuracy'\n",
    "results = model_selection.cross_val_score(modelCV, X_train, y_train, cv=kfold, scoring=scoring)\n",
    "print(\"10-fold cross validation average accuracy: %.3f\" % (results.mean()))"
   ]
  },
  {
   "cell_type": "code",
   "execution_count": 216,
   "metadata": {},
   "outputs": [
    {
     "name": "stdout",
     "output_type": "stream",
     "text": [
      "\n",
      "R-squared simple model:\n",
      "0.824199970916\n",
      "\n",
      "R-squared complex model:\n",
      "0.782291139352\n",
      "\n",
      "Parameter Estimates for the same predictors for the small model and large model:\n",
      "[[0.039 0.068]\n",
      " [0.025 0.072]\n",
      " [0.006 0.060]\n",
      " [0.009 0.033]\n",
      " [0.020 0.054]\n",
      " [0.006 0.057]\n",
      " [0.016 -0.004]\n",
      " [0.050 -0.004]\n",
      " [-0.249 -0.445]]\n"
     ]
    }
   ],
   "source": [
    "#Define the training and test sizes\n",
    "trainsize = int(df.shape[0]*0.8)  \n",
    "df_test = df.iloc[trainsize:, :].copy() \n",
    "df_train = df.iloc[:trainsize, :].copy()\n",
    "\n",
    "#Set up regression model to predict defaults using all other variables as features\n",
    "regr1 = linear_model.LinearRegression()\n",
    "Y_train = df_train['Class_Cat'].values.reshape(-1, 1)\n",
    "X_train = df_train[['Clump_Thickness','Uniformity_Cell_Size','Marginal_Adhesion', 'Single_Epithelial_Cell_Size',\n",
    "        'Normal_Nucleoli','Mitoses','Bland_Chromatin','Bare_Nuclei']]\n",
    "regr1.fit(X_train, Y_train)\n",
    "print('\\nR-squared simple model:')\n",
    "print(regr1.score(X_train, Y_train))\n",
    "\n",
    "#Store the parameter estimates.\n",
    "origparams = np.append(regr1.coef_, regr1.intercept_) \n",
    "\n",
    "# Make new features to capture relationships between the features.\n",
    "\n",
    "df_train['Thickness_Cell_Size'] = df_train['Clump_Thickness'] * df_train['Uniformity_Cell_Size'] \n",
    "df_train['Adhesion_Mitoses'] = df_train['Marginal_Adhesion'] * df_train['Mitoses']\n",
    "df_train['Nucleoli_Mitoses'] = df_train['Normal_Nucleoli'] * df_train['Mitoses']\n",
    "df_train['Thickness_Epithelial_Size'] = df_train['Clump_Thickness'] * df_train['Single_Epithelial_Cell_Size']\n",
    "df_train['Adhesion_Nucleoli'] = df_train['Marginal_Adhesion'] * df_train['Normal_Nucleoli']\n",
    "\n",
    "                             \n",
    "# Re-run the model with the new features.\n",
    "regrBig = linear_model.LinearRegression()\n",
    "X_train2 = df_train[['Clump_Thickness','Uniformity_Cell_Size','Marginal_Adhesion', 'Single_Epithelial_Cell_Size',\n",
    "        'Normal_Nucleoli','Mitoses','Thickness_Cell_Size','Adhesion_Mitoses','Nucleoli_Mitoses',\n",
    "                    'Thickness_Epithelial_Size','Adhesion_Nucleoli']]\n",
    "regrBig.fit(X_train2, Y_train)\n",
    "print('\\nR-squared complex model:')\n",
    "print(regrBig.score(X_train2, Y_train))\n",
    "\n",
    "# Store the new parameter estimates for the same features.\n",
    "newparams = np.append(\n",
    "    regrBig.coef_[0,0:(len(origparams)-1)],\n",
    "    regrBig.intercept_)\n",
    "\n",
    "print('\\nParameter Estimates for the same predictors for the small model '\n",
    "      'and large model:')\n",
    "compare = np.column_stack((origparams, newparams))\n",
    "prettycompare = np.array2string(\n",
    "    compare,\n",
    "    formatter={'float_kind':'{0:.3f}'.format})\n",
    "print(prettycompare)"
   ]
  },
  {
   "cell_type": "code",
   "execution_count": 217,
   "metadata": {},
   "outputs": [
    {
     "name": "stdout",
     "output_type": "stream",
     "text": [
      "\n",
      "R-squared simple model:\n",
      "0.88014671755\n",
      "\n",
      "R-squared complex model:\n",
      "0.875712792606\n"
     ]
    }
   ],
   "source": [
    "# Test the simpler model with smaller coefficients.\n",
    "Y_test = df_test['Class_Cat'].values.reshape(-1, 1)\n",
    "X_test = df_test[['Clump_Thickness','Uniformity_Cell_Size','Marginal_Adhesion', 'Single_Epithelial_Cell_Size',\n",
    "        'Normal_Nucleoli','Mitoses','Bland_Chromatin','Bare_Nuclei']]\n",
    "print('\\nR-squared simple model:')\n",
    "print(regr1.score(X_test, Y_test))\n",
    "\n",
    "# Test the more complex model with larger coefficients.\n",
    "df_test['Thickness_Cell_Size'] = df_test['Clump_Thickness'] * df_test['Uniformity_Cell_Size'] \n",
    "df_test['Adhesion_Mitoses'] = df_test['Marginal_Adhesion'] * df_test['Mitoses']\n",
    "df_test['Nucleoli_Mitoses'] = df_test['Normal_Nucleoli'] * df_test['Mitoses']\n",
    "df_test['Thickness_Epithelial_Size'] = df_test['Clump_Thickness'] * df_test['Single_Epithelial_Cell_Size']\n",
    "df_test['Adhesion_Nucleoli'] = df_test['Marginal_Adhesion'] * df_test['Normal_Nucleoli']\n",
    "\n",
    "\n",
    "# Re-run the model with the new features.\n",
    "X_test2 = df_test[['Clump_Thickness','Uniformity_Cell_Size','Marginal_Adhesion', 'Single_Epithelial_Cell_Size',\n",
    "        'Normal_Nucleoli','Mitoses','Thickness_Cell_Size','Adhesion_Mitoses','Nucleoli_Mitoses',\n",
    "                    'Thickness_Epithelial_Size','Adhesion_Nucleoli']]\n",
    "print('\\nR-squared complex model:')\n",
    "print(regrBig.score(X_test2, Y_test))"
   ]
  },
  {
   "cell_type": "code",
   "execution_count": 218,
   "metadata": {},
   "outputs": [],
   "source": [
    "#Testing using KNN Model"
   ]
  },
  {
   "cell_type": "code",
   "execution_count": 219,
   "metadata": {},
   "outputs": [],
   "source": [
    "# Run the same model, this time with weights.\n",
    "from sklearn import neighbors\n",
    "knn_w = neighbors.KNeighborsRegressor(n_neighbors=50, weights='distance')\n",
    "Y = df['Class_Cat'].values.reshape(-1,1)\n",
    "X = df[['Clump_Thickness','Uniformity_Cell_Size','Marginal_Adhesion', 'Single_Epithelial_Cell_Size',\n",
    "        'Normal_Nucleoli','Mitoses','Bland_Chromatin','Bare_Nuclei']]"
   ]
  },
  {
   "cell_type": "code",
   "execution_count": 220,
   "metadata": {},
   "outputs": [
    {
     "name": "stdout",
     "output_type": "stream",
     "text": [
      "(559, 8) (559, 1)\n",
      "(140, 8) (140, 1)\n"
     ]
    }
   ],
   "source": [
    "from sklearn import datasets, linear_model\n",
    "from sklearn.model_selection import train_test_split\n",
    "X_train, X_test, Y_train, Y_test = train_test_split(X, Y, test_size=0.2)\n",
    "print(X_train.shape, Y_train.shape)\n",
    "print(X_test.shape, Y_test.shape)"
   ]
  },
  {
   "cell_type": "code",
   "execution_count": 221,
   "metadata": {},
   "outputs": [
    {
     "data": {
      "text/plain": [
       "KNeighborsRegressor(algorithm='auto', leaf_size=30, metric='minkowski',\n",
       "          metric_params=None, n_jobs=1, n_neighbors=10, p=2,\n",
       "          weights='uniform')"
      ]
     },
     "execution_count": 221,
     "metadata": {},
     "output_type": "execute_result"
    }
   ],
   "source": [
    "knn.fit(X_train, Y_train)"
   ]
  },
  {
   "cell_type": "code",
   "execution_count": 222,
   "metadata": {},
   "outputs": [
    {
     "name": "stdout",
     "output_type": "stream",
     "text": [
      "Unweighted Accuracy: 0.88 (+/- 0.23)\n",
      "Weighted Accuracy: 0.85 (+/- 0.24)\n"
     ]
    }
   ],
   "source": [
    "from sklearn.model_selection import cross_val_score\n",
    "knn = neighbors.KNeighborsRegressor(n_neighbors=10)\n",
    "score = cross_val_score(knn, X, Y, cv=10)\n",
    "print(\"Unweighted Accuracy: %0.2f (+/- %0.2f)\" % (score.mean(), score.std() * 2))\n",
    "score_w = cross_val_score(knn_w, X, Y, cv=5)\n",
    "print(\"Weighted Accuracy: %0.2f (+/- %0.2f)\" % (score_w.mean(), score_w.std() * 2))"
   ]
  },
  {
   "cell_type": "code",
   "execution_count": 223,
   "metadata": {},
   "outputs": [],
   "source": [
    "#Testing using Naive Bayes"
   ]
  },
  {
   "cell_type": "code",
   "execution_count": 224,
   "metadata": {},
   "outputs": [],
   "source": [
    "from sklearn.naive_bayes import GaussianNB\n",
    "\n",
    "from sklearn.model_selection import train_test_split\n",
    "X_train, X_test, y_train, y_test = train_test_split(X, y, test_size=0.2)\n"
   ]
  },
  {
   "cell_type": "code",
   "execution_count": 225,
   "metadata": {},
   "outputs": [
    {
     "name": "stdout",
     "output_type": "stream",
     "text": [
      "Accuracy of Bernoulli classifier on test set: 0.97\n",
      "Accuracy of Gaussaian classifier on test set: 0.96\n"
     ]
    }
   ],
   "source": [
    "# Feature Scaling\n",
    "from sklearn.preprocessing import StandardScaler\n",
    "from sklearn.naive_bayes import BernoulliNB\n",
    "from sklearn.naive_bayes import GaussianNB\n",
    "sc = StandardScaler()\n",
    "X_train = sc.fit_transform(X_train)\n",
    "X_test = sc.transform(X_test)\n",
    "    \n",
    "#Testing my Naive Bayes Classifier\n",
    "BNB = BernoulliNB()\n",
    "BNB.fit(X_train, y_train)\n",
    "    \n",
    "y_pred = BNB.predict(X_test)\n",
    "    \n",
    "NB_sk = GaussianNB()\n",
    "NB_sk.fit(X_train, y_train)\n",
    "    \n",
    "sk_pred = NB_sk.predict(X_test)\n",
    "     \n",
    "print('Accuracy of Bernoulli classifier on test set: {:.2f}'.format(BNB.score(X_test, y_test)))\n",
    "print('Accuracy of Gaussaian classifier on test set: {:.2f}'.format(NB_sk.score(X_test, y_test)))"
   ]
  },
  {
   "cell_type": "code",
   "execution_count": null,
   "metadata": {},
   "outputs": [],
   "source": []
  }
 ],
 "metadata": {
  "kernelspec": {
   "display_name": "Python 3",
   "language": "python",
   "name": "python3"
  },
  "language_info": {
   "codemirror_mode": {
    "name": "ipython",
    "version": 3
   },
   "file_extension": ".py",
   "mimetype": "text/x-python",
   "name": "python",
   "nbconvert_exporter": "python",
   "pygments_lexer": "ipython3",
   "version": "3.6.3"
  }
 },
 "nbformat": 4,
 "nbformat_minor": 2
}
