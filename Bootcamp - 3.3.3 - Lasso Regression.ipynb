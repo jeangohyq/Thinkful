{
 "cells": [
  {
   "cell_type": "code",
   "execution_count": 35,
   "metadata": {},
   "outputs": [],
   "source": [
    "import pandas as pd\n",
    "from matplotlib import pyplot as plt\n",
    "import numpy as np\n",
    "import math\n",
    "import seaborn as sns\n",
    "import sklearn\n",
    "from sklearn import linear_model\n",
    "from sklearn import preprocessing\n",
    "%matplotlib inline\n",
    "sns.set_style('white')"
   ]
  },
  {
   "cell_type": "code",
   "execution_count": 36,
   "metadata": {},
   "outputs": [],
   "source": [
    "# Load the data again. Keep air quality data, drop the index column\n",
    "# and any missing data columns.\n",
    "df = pd.read_csv(\n",
    "    'https://vincentarelbundock.github.io/Rdatasets/csv/ISLR/Default.csv'\n",
    ").iloc[:,1:].dropna()\n",
    "\n",
    "# Recode strings to numeric.\n",
    "df['default'] = np.where(df['default']=='Yes', 1, 0)\n",
    "df['student'] = np.where(df['student']=='Yes', 1, 0)\n",
    "names = df.columns\n",
    "df = pd.DataFrame(preprocessing.scale(df), columns=names)\n",
    "\n",
    "# Define the training and test sizes.\n",
    "trainsize = int(df.shape[0] / 2)\n",
    "df_test = df.iloc[trainsize:, :].copy()\n",
    "df_train = df.iloc[:trainsize, :].copy()\n",
    "\n",
    "Y_train = df_train['income'].values.reshape(-1, 1)\n",
    "X_train = df_train.loc[:, ~(df_train.columns).isin(['income'])]\n",
    "\n",
    "# Make some new features to capture potential quadratic and cubic\n",
    "# relationships between solar radiation and day or temperature.\n",
    "df_train['balance_student'] = df_train['balance'] * df_train['student']\n",
    "df_train['balance_default'] = df_train['balance'] * df_train['default']\n",
    "df_train['student_default'] = df_train['student'] * df_train['default']\n",
    "df_train['balance_sqrt'] = (df_train['balance'] + 100) ** .5\n",
    "df_train['balance2'] = (df_train['balance'] + 100) ** 2\n",
    "df_train['balance3'] = (df_train['balance'] + 100) ** 3\n",
    "\n",
    "X_train2 = df_train.loc[:, ~(df_train.columns).isin(['income'])]\n",
    "\n",
    "# Test the simpler model with smaller coefficients.\n",
    "Y_test = df_test['income'].values.reshape(-1, 1)\n",
    "X_test = df_test.loc[:, ~(df_test.columns).isin(['income'])]\n",
    "\n",
    "# Test the more complex model with larger coefficients.\n",
    "df_test['balance_student'] = df_test['balance'] * df_test['student']\n",
    "df_test['balance_default'] = df_test['balance'] * df_test['default']\n",
    "df_test['student_default'] = df_test['student'] * df_test['default']\n",
    "df_test['balance_sqrt'] = (df_test['balance'] + 100) ** .5\n",
    "df_test['balance2'] = (df_test['balance'] + 100) ** 2\n",
    "df_test['balance3'] = (df_test['balance'] + 100) ** 3\n",
    "X_test2 = df_test.loc[:, ~(df_test.columns).isin(['income'])]\n"
   ]
  },
  {
   "cell_type": "code",
   "execution_count": 37,
   "metadata": {},
   "outputs": [
    {
     "name": "stdout",
     "output_type": "stream",
     "text": [
      "R² for the model with few features:\n",
      "0.450062579301\n",
      "\n",
      "Parameter estimates for the model with few features:\n",
      "[-0.         -0.40657726 -0.          0.00114596]\n",
      "\n",
      "R² for the model with many features:\n",
      "0.443633767129\n",
      "\n",
      "Parameter estimates for the model with many features:\n",
      "[  0.00000000e+00  -3.89351238e-01   0.00000000e+00  -0.00000000e+00\n",
      "   0.00000000e+00  -0.00000000e+00   0.00000000e+00  -2.77688887e-04\n",
      "  -7.09158792e-07   3.48711577e+00]\n"
     ]
    }
   ],
   "source": [
    "#When alpa=.35, R² for the model with many features: 0.443633767129\n",
    "\n",
    "#Small number of parameters\n",
    "lass = linear_model.Lasso(alpha=0.35)\n",
    "lassfit = lass.fit(X_train, Y_train)\n",
    "print('R² for the model with few features:')\n",
    "print(lass.score(X_train, Y_train))\n",
    "origparams = np.append(lassfit.coef_, lassfit.intercept_)\n",
    "print('\\nParameter estimates for the model with few features:')\n",
    "print(origparams)\n",
    "\n",
    "#Large number of parameters.\n",
    "lassBig = linear_model.Lasso(alpha=0.35)\n",
    "lassBig.fit(X_train2, Y_train)\n",
    "print('\\nR² for the model with many features:')\n",
    "print(lassBig.score(X_train2, Y_train))\n",
    "origparams = np.append(lassBig.coef_, lassBig.intercept_)\n",
    "print('\\nParameter estimates for the model with many features:')\n",
    "print(origparams)"
   ]
  },
  {
   "cell_type": "code",
   "execution_count": 38,
   "metadata": {},
   "outputs": [
    {
     "name": "stdout",
     "output_type": "stream",
     "text": [
      "0.445532251512\n",
      "0.438046634591\n"
     ]
    }
   ],
   "source": [
    "print(lass.score(X_test, Y_test))\n",
    "print(lassBig.score(X_test2, Y_test))"
   ]
  },
  {
   "cell_type": "code",
   "execution_count": null,
   "metadata": {},
   "outputs": [],
   "source": []
  },
  {
   "cell_type": "code",
   "execution_count": null,
   "metadata": {},
   "outputs": [],
   "source": []
  },
  {
   "cell_type": "code",
   "execution_count": 39,
   "metadata": {},
   "outputs": [],
   "source": [
    "#Create a plot below of how R2 varies across different values of λ for ridge and lasso regression. \n",
    "#Use logic and code similar to the ridge regression demonstration above, \n",
    "#and base your plot on the X_train2 feature set."
   ]
  },
  {
   "cell_type": "code",
   "execution_count": 45,
   "metadata": {},
   "outputs": [
    {
     "name": "stderr",
     "output_type": "stream",
     "text": [
      "/Library/Frameworks/Python.framework/Versions/3.6/lib/python3.6/site-packages/ipykernel_launcher.py:10: UserWarning: With alpha=0, this algorithm does not converge well. You are advised to use the LinearRegression estimator\n",
      "  # Remove the CWD from sys.path while we load stuff.\n",
      "/Library/Frameworks/Python.framework/Versions/3.6/lib/python3.6/site-packages/sklearn/linear_model/coordinate_descent.py:477: UserWarning: Coordinate descent with no regularization may lead to unexpected results and is discouraged.\n",
      "  positive)\n",
      "/Library/Frameworks/Python.framework/Versions/3.6/lib/python3.6/site-packages/sklearn/linear_model/coordinate_descent.py:491: ConvergenceWarning: Objective did not converge. You might want to increase the number of iterations. Fitting data with very small alpha may cause precision problems.\n",
      "  ConvergenceWarning)\n",
      "/Library/Frameworks/Python.framework/Versions/3.6/lib/python3.6/site-packages/scipy/linalg/basic.py:40: RuntimeWarning: scipy.linalg.solve\n",
      "Ill-conditioned matrix detected. Result is not guaranteed to be accurate.\n",
      "Reciprocal condition number/precision: 6.863128803211902e-23 / 1.1102230246251565e-16\n",
      "  RuntimeWarning)\n",
      "/Library/Frameworks/Python.framework/Versions/3.6/lib/python3.6/site-packages/scipy/linalg/basic.py:40: RuntimeWarning: scipy.linalg.solve\n",
      "Ill-conditioned matrix detected. Result is not guaranteed to be accurate.\n",
      "Reciprocal condition number/precision: 3.66801327188232e-17 / 1.1102230246251565e-16\n",
      "  RuntimeWarning)\n",
      "/Library/Frameworks/Python.framework/Versions/3.6/lib/python3.6/site-packages/scipy/linalg/basic.py:40: RuntimeWarning: scipy.linalg.solve\n",
      "Ill-conditioned matrix detected. Result is not guaranteed to be accurate.\n",
      "Reciprocal condition number/precision: 7.377185766677148e-17 / 1.1102230246251565e-16\n",
      "  RuntimeWarning)\n"
     ]
    }
   ],
   "source": [
    "#Small number of parameters\n",
    "from sklearn import linear_model\n",
    "\n",
    "alpha_values = np.arange(0, 20, .2)\n",
    "lasso_scores = []\n",
    "ridge_scores = []\n",
    "\n",
    "for alpha in alpha_values:\n",
    "    lass = linear_model.Lasso(alpha=alpha) \n",
    "    lassfit = lass.fit(X_train2, Y_train)\n",
    "    lasso_scores.append(lass.score(X_train2, Y_train))\n",
    "\n",
    "    ridgeregr = linear_model.Ridge(alpha=alpha, fit_intercept=False)\n",
    "    ridgeregrfit = ridgeregr.fit(X_train2, Y_train)\n",
    "    ridge_scores.append(ridgeregr.score(X_train2, Y_train))"
   ]
  },
  {
   "cell_type": "code",
   "execution_count": 46,
   "metadata": {},
   "outputs": [
    {
     "name": "stdout",
     "output_type": "stream",
     "text": [
      "[0.57397331017147024, 0.57397206570731396, 0.57397141144908004, 0.57397055490050997, 0.5739695981426034, 0.5739686014514882, 0.57396760059545959, 0.57396661663415371, 0.57396566164168505, 0.57396474213658066, 0.57396386118106313, 0.57396301968910568, 0.57396221725162277, 0.573961452663313, 0.57396072426079092, 0.57396003013987518, 0.57395936829503236, 0.57395873670833697, 0.57395813340462221, 0.57395755648470892, 0.57395700414438955, 0.57395647468349109, 0.57395596650932434, 0.57395547813552616, 0.57395500817894773, 0.57395455535460349, 0.57395411847036581, 0.57395369642074523, 0.5739532881810131, 0.57395289280116346, 0.57395250940046183, 0.57395213716188542, 0.57395177532712915, 0.57395142319212489, 0.57395108010239548, 0.57395074544937064, 0.57395041866656316, 0.57395009922627549, 0.57394978663650176, 0.57394948043813221, 0.57394918020236796, 0.57394888552832191, 0.57394859604097592, 0.57394831138911973, 0.57394803124362359, 0.57394775529572306, 0.57394748325553502, 0.57394721485067834, 0.57394694982504113, 0.57394668793761572, 0.5739464289613363, 0.57394617268218351, 0.57394591889832602, 0.57394566741917008, 0.57394541806470745, 0.57394517066470452, 0.57394492505819172, 0.57394468109269403, 0.57394443862383582, 0.57394419751472503, 0.57394395763552775, 0.573943718862993, 0.57394348108007587, 0.57394324417555209, 0.57394300804364495, 0.5739427725837476, 0.57394253770004611, 0.57394230330131868, 0.57394206930061165, 0.57394183561501522, 0.57394160216543399, 0.57394136887639569, 0.5739411356757842, 0.57394090249474694, 0.57394066926744458, 0.57394043593091459, 0.57394020242493415, 0.57393996869184039, 0.57393973467642789, 0.57393950032580987, 0.57393926558929675, 0.57393903041830197, 0.57393879476619469, 0.57393855858825105, 0.57393832184153704, 0.57393808448482653, 0.57393784647851032, 0.57393760778453029, 0.57393736836628861, 0.57393712818860554, 0.57393688721763558, 0.57393664542080036, 0.57393640276675062, 0.57393615922528451, 0.57393591476732531, 0.57393566936485052, 0.57393542299085654, 0.57393517561929874, 0.57393492722506201, 0.57393467778392426]\n",
      "[0.57394444831554214, 0.53123523313557819, 0.4038148555303922, 0.19144674105687931, 0.026834134749037727, 0.026834134351719777, 0.026834133866108337, 0.026834133292204299, 0.026834132630007002, 0.026834131879516998, 0.026834131040733955, 0.026834130113657872, 0.026834129098289083, 0.026834127994627255, 0.026834126802672383, 0.02683412552242459, 0.026834124153884083, 0.026834122697050104, 0.02683412115192374, 0.0268341195185039, 0.026834117796791568, 0.026834115986785978, 0.026834114088487571, 0.026834112101896235, 0.026834110027011967, 0.026834107863834555, 0.026834105612364437, 0.026834103272601051, 0.026834100844545072, 0.026834098328196054, 0.026834095723553997, 0.026834093030619122, 0.026834090249391093, 0.026834087379870256, 0.026834084422056367, 0.02683408137594967, 0.026834078241549819, 0.026834075018857265, 0.026834071707871669, 0.02683406830859314, 0.026834064821021571, 0.026834061245157196, 0.026834057580999545, 0.026834053828549195, 0.02683404998780603, 0.026834046058769601, 0.026834042041440465, 0.0268340379358184, 0.026834033741903185, 0.026834029459695038, 0.02683402508919408, 0.02683402063040019, 0.026834016083313039, 0.026834011447933404, 0.026834006724260503, 0.026834001912294684, 0.026833997012035926, 0.026833992023484358, 0.026833986946639521, 0.026833981781502092, 0.026833976528071513, 0.026833971186347897, 0.026833965756331683, 0.0268339602380222, 0.02683395463141991, 0.026833948936524687, 0.026833943153336426, 0.026833937281855121, 0.026833931322081117, 0.026833925274014184, 0.026833919137654091, 0.026833912913001079, 0.026833906600055135, 0.026833900198816148, 0.026833893709284348, 0.026833887131459618, 0.026833880465341853, 0.026833873710931381, 0.02683386686822764, 0.026833859937231089, 0.026833852917941606, 0.026833845810359188, 0.02683383861448374, 0.02683383133031525, 0.026833823957853831, 0.026833816497099702, 0.02683380894805254, 0.026833801310712332, 0.026833793585079087, 0.026833785771153137, 0.026833777868933928, 0.02683376987842212, 0.026833761799617162, 0.026833753632519493, 0.026833745377128682, 0.026833737033444716, 0.026833728601467932, 0.026833720081198335, 0.026833711472635691, 0.026833702775780229]\n"
     ]
    }
   ],
   "source": [
    "print(ridge_scores)\n",
    "print(lasso_scores)"
   ]
  },
  {
   "cell_type": "code",
   "execution_count": 47,
   "metadata": {},
   "outputs": [
    {
     "data": {
      "image/png": "[encoded data removed]",
      "text/plain": [
       "<matplotlib.figure.Figure at 0x116487048>"
      ]
     },
     "metadata": {},
     "output_type": "display_data"
    }
   ],
   "source": [
    "plt.plot(alpha_values, ridge_scores)\n",
    "plt.plot(alpha_values, lasso_scores)\n",
    "plt.show()"
   ]
  },
  {
   "cell_type": "code",
   "execution_count": null,
   "metadata": {},
   "outputs": [],
   "source": [
    "#For lasso, as regularization increases, coefficients get closer to zero.\n",
    "#Lasso takes out features and it's now using less features to predict the model. \n",
    "#Ridge works extremely well with correlated features, \n",
    "#while lasso is efficient when dealing with unmanageable large feature space"
   ]
  },
  {
   "cell_type": "code",
   "execution_count": null,
   "metadata": {},
   "outputs": [],
   "source": []
  },
  {
   "cell_type": "code",
   "execution_count": null,
   "metadata": {},
   "outputs": [],
   "source": []
  }
 ],
 "metadata": {
  "kernelspec": {
   "display_name": "Python 3",
   "language": "python",
   "name": "python3"
  },
  "language_info": {
   "codemirror_mode": {
    "name": "ipython",
    "version": 3
   },
   "file_extension": ".py",
   "mimetype": "text/x-python",
   "name": "python",
   "nbconvert_exporter": "python",
   "pygments_lexer": "ipython3",
   "version": "3.6.3"
  }
 },
 "nbformat": 4,
 "nbformat_minor": 2
}
