{
 "cells": [
  {
   "cell_type": "code",
   "execution_count": 205,
   "metadata": {},
   "outputs": [],
   "source": [
    "import pandas as pd\n",
    "import numpy as np\n",
    "import matplotlib.pyplot as plt\n",
    "import seaborn as sns\n",
    "import scipy.stats as stats\n",
    "import sklearn\n",
    "%matplotlib inline\n",
    "from sklearn.preprocessing import StandardScaler\n",
    "from sklearn.decomposition import PCA"
   ]
  },
  {
   "cell_type": "code",
   "execution_count": 206,
   "metadata": {},
   "outputs": [
    {
     "name": "stdout",
     "output_type": "stream",
     "text": [
      "                                            Comments  Sentiment\n",
      "0                           Wow... Loved this place.          1\n",
      "1                                 Crust is not good.          0\n",
      "2          Not tasty and the texture was just nasty.          0\n",
      "3  Stopped by during the late May bank holiday of...          1\n",
      "4  The selection on the menu was great and so wer...          1\n"
     ]
    }
   ],
   "source": [
    "df_raw = pd.read_csv('yelp.csv', encoding = \"ISO-8859-1\", header=None)\n",
    "df_raw.columns = [\"Comments\", \"Sentiment\"]\n",
    "print(df_raw.head())"
   ]
  },
  {
   "cell_type": "code",
   "execution_count": 207,
   "metadata": {},
   "outputs": [],
   "source": [
    "positive_keywords = ['satisfied', 'happy', 'enjoyed', 'loved', 'prompt', 'great', 'excellent', 'favorite',\n",
    "                    'amazing', 'delicious', 'right', 'love',]\n",
    "negative_keywords = ['angry', 'slow', 'sucks', 'bad', 'disappointed', 'rude', 'avoid', 'never', 'waste',\n",
    "                    'never', 'mistake', 'not good', 'not like', 'zero', 'dirty', 'bland',\n",
    "                    'disaster','downside', 'joke']"
   ]
  },
  {
   "cell_type": "code",
   "execution_count": 208,
   "metadata": {},
   "outputs": [],
   "source": [
    "for key in positive_keywords:\n",
    "    df_raw[str(key)] = df_raw.Comments.str.contains(\n",
    "        ' ' + str(key) + ' ',\n",
    "        case=False\n",
    "    )"
   ]
  },
  {
   "cell_type": "code",
   "execution_count": 209,
   "metadata": {},
   "outputs": [],
   "source": [
    "positive_data = df_raw[positive_keywords]\n",
    "target = df_raw['Sentiment']"
   ]
  },
  {
   "cell_type": "code",
   "execution_count": 210,
   "metadata": {},
   "outputs": [
    {
     "name": "stdout",
     "output_type": "stream",
     "text": [
      "Number of positive statements out of a total of 1000 points : 416\n"
     ]
    }
   ],
   "source": [
    "#import the Bernoulli classifier since data is binary/boolean\n",
    "from sklearn.naive_bayes import BernoulliNB\n",
    "\n",
    "# Instantiate our model and store it in a new variable.\n",
    "bnb = BernoulliNB()\n",
    "\n",
    "# Fit our model to the data.\n",
    "bnb.fit(positive_data, target)\n",
    "\n",
    "#Classify storing the result in a new variable.\n",
    "y_pred = bnb.predict(positive_data)\n",
    "\n",
    "print(\"Number of positive statements out of a total of {} points : {}\".format(\n",
    "     positive_data.shape[0],\n",
    "     (target != y_pred).sum()\n",
    "))"
   ]
  },
  {
   "cell_type": "code",
   "execution_count": 211,
   "metadata": {},
   "outputs": [],
   "source": [
    "for keywords in negative_keywords:\n",
    "    df_raw[str(keywords)] = df_raw.Comments.str.contains(\n",
    "        ' ' + str(keywords) + ' ',\n",
    "        case=False\n",
    "    )"
   ]
  },
  {
   "cell_type": "code",
   "execution_count": 212,
   "metadata": {},
   "outputs": [],
   "source": [
    "negative_data = df_raw[negative_keywords]\n",
    "target2 = df_raw['Sentiment']"
   ]
  },
  {
   "cell_type": "code",
   "execution_count": 213,
   "metadata": {},
   "outputs": [
    {
     "name": "stdout",
     "output_type": "stream",
     "text": [
      "Number of negative statements out of a total of 1000 points : 433\n"
     ]
    }
   ],
   "source": [
    "# Instantiate our model and store it in a new variable.\n",
    "bnb = BernoulliNB()\n",
    "\n",
    "# Fit our model to the data.\n",
    "bnb.fit(negative_data, target2)\n",
    "\n",
    "#Classify storing the result in a new variable.\n",
    "y_pred = bnb.predict(negative_data)\n",
    "\n",
    "print(\"Number of negative statements out of a total of {} points : {}\".format(\n",
    "     negative_data.shape[0],\n",
    "     (target2 != y_pred).sum()\n",
    "))"
   ]
  },
  {
   "cell_type": "code",
   "execution_count": null,
   "metadata": {},
   "outputs": [],
   "source": []
  },
  {
   "cell_type": "code",
   "execution_count": null,
   "metadata": {},
   "outputs": [],
   "source": []
  }
 ],
 "metadata": {
  "kernelspec": {
   "display_name": "Python 3",
   "language": "python",
   "name": "python3"
  },
  "language_info": {
   "codemirror_mode": {
    "name": "ipython",
    "version": 3
   },
   "file_extension": ".py",
   "mimetype": "text/x-python",
   "name": "python",
   "nbconvert_exporter": "python",
   "pygments_lexer": "ipython3",
   "version": "3.6.3"
  }
 },
 "nbformat": 4,
 "nbformat_minor": 2
}
