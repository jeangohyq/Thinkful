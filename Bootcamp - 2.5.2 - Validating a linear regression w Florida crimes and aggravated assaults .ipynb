{
 "cells": [
  {
   "cell_type": "code",
   "execution_count": 71,
   "metadata": {},
   "outputs": [],
   "source": [
    "import math\n",
    "import warnings\n",
    "\n",
    "from IPython.display import display\n",
    "from matplotlib import pyplot as plt\n",
    "import numpy as np\n",
    "import pandas as pd\n",
    "import seaborn as sns\n",
    "from sklearn import linear_model\n",
    "import statsmodels.formula.api as smf\n",
    "from scipy.stats import mstats\n",
    "import statsmodels.api as sm\n",
    "\n",
    "# Display preferences.\n",
    "%matplotlib inline\n",
    "pd.options.display.float_format = '{:.3f}'.format\n",
    "\n",
    "# Suppress annoying harmless error.\n",
    "warnings.filterwarnings(\n",
    "    action=\"ignore\",\n",
    "    module=\"scipy\",\n",
    "    message=\"^internal gelsd\"\n",
    ")"
   ]
  },
  {
   "cell_type": "code",
   "execution_count": 72,
   "metadata": {},
   "outputs": [],
   "source": [
    "#Testing in the model on Florida Crimes\n",
    "df = pd.read_csv(\"florida crimes.csv\")"
   ]
  },
  {
   "cell_type": "code",
   "execution_count": 73,
   "metadata": {},
   "outputs": [],
   "source": [
    "df = df.drop(['Rape\\r(legacy\\rdefinition)2'], axis=1)"
   ]
  },
  {
   "cell_type": "code",
   "execution_count": 74,
   "metadata": {},
   "outputs": [
    {
     "name": "stdout",
     "output_type": "stream",
     "text": [
      "                City Population Violent_Crime  Murder  Rape Robbery  \\\n",
      "0            Alachua      9,338            36       0     2       2   \n",
      "1  Altamonte Springs     42,040           150       0     8      37   \n",
      "2              Altha        536             1       0     0       0   \n",
      "3       Apalachicola      2,269             1       0     0       0   \n",
      "4             Apopka     45,397           178       1    11      57   \n",
      "\n",
      "  Aggravated_Assault Property_Crime Burglary Larceny_Theft  \\\n",
      "0                 32            166       40           120   \n",
      "1                105          1,564      300         1,180   \n",
      "2                  1              3        3             0   \n",
      "3                  1             35        8            27   \n",
      "4                109          1,527      231         1,202   \n",
      "\n",
      "  Motor_Vehicle_Theft  Arson  \n",
      "0                   6      1  \n",
      "1                  84      3  \n",
      "2                   0      0  \n",
      "3                   0      0  \n",
      "4                  94      6  \n"
     ]
    }
   ],
   "source": [
    "df = df.rename(columns={'Violent\\rcrime': 'Violent_Crime', \n",
    "                        'Murder and\\rnonnegligent\\rmanslaughter': 'Murder',\n",
    "                       'Rape\\r(revised\\rdefinition)1' : 'Rape',\n",
    "                       'Aggravated\\rassault' : 'Aggravated_Assault',\n",
    "                       'Property\\rcrime': 'Property_Crime',\n",
    "                       'Larceny-\\rtheft': 'Larceny_Theft',\n",
    "                       'Motor\\rvehicle\\rtheft': 'Motor_Vehicle_Theft',\n",
    "                       'Arson3': 'Arson'})\n",
    "print(df.head())"
   ]
  },
  {
   "cell_type": "code",
   "execution_count": 75,
   "metadata": {},
   "outputs": [],
   "source": [
    "df['Robbery'] = df['Robbery'].str.replace(',', '')\n",
    "df['Larceny_Theft'] = df['Larceny_Theft'].str.replace(',', '')\n",
    "df['Property_Crime'] = df['Property_Crime'].str.replace(',', '')\n",
    "df['Burglary'] = df['Burglary'].str.replace(',', '')\n",
    "df['Population'] = df['Population'].str.replace(',', '')\n",
    "df['Poperty_Crime'] = df['Property_Crime'].str.replace(',', '')\n",
    "df['Aggravated_Assault'] = df['Aggravated_Assault'].str.replace(',', '')"
   ]
  },
  {
   "cell_type": "code",
   "execution_count": 76,
   "metadata": {},
   "outputs": [],
   "source": [
    "df['Property_Crime'] = pd.to_numeric(df['Property_Crime'])\n",
    "df['Population'] = pd.to_numeric(df['Population'])\n",
    "df['Aggravated_Assault'] = pd.to_numeric(df['Aggravated_Assault'])"
   ]
  },
  {
   "cell_type": "code",
   "execution_count": 77,
   "metadata": {},
   "outputs": [
    {
     "name": "stdout",
     "output_type": "stream",
     "text": [
      "                City  Population Violent_Crime  Murder  Rape  Robbery  \\\n",
      "0            Alachua        9338            36       0     2        2   \n",
      "1  Altamonte Springs       42040           150       0     8       37   \n",
      "2              Altha         536             1       0     0        0   \n",
      "3       Apalachicola        2269             1       0     0        0   \n",
      "4             Apopka       45397           178       1    11       57   \n",
      "\n",
      "   Aggravated_Assault  Property_Crime Burglary Larceny_Theft  \\\n",
      "0                  32         166.000       40           120   \n",
      "1                 105        1564.000      300          1180   \n",
      "2                   1           3.000        3             0   \n",
      "3                   1          35.000        8            27   \n",
      "4                 109        1527.000      231          1202   \n",
      "\n",
      "  Motor_Vehicle_Theft  Arson Poperty_Crime  Robbery_Cat  \n",
      "0                   6      1           166            1  \n",
      "1                  84      3          1564            1  \n",
      "2                   0      0             3            0  \n",
      "3                   0      0            35            0  \n",
      "4                  94      6          1527            1  \n"
     ]
    }
   ],
   "source": [
    "df['Robbery'] = pd.to_numeric(df['Robbery'])\n",
    "df['Robbery_Cat'] = np.where(df['Robbery']>0, 1, 0)\n",
    "df['Arson']=df['Arson'].fillna(0)\n",
    "df['Property_Crime']=df['Property_Crime'].fillna(0)\n",
    "print(df.head())"
   ]
  },
  {
   "cell_type": "code",
   "execution_count": 78,
   "metadata": {},
   "outputs": [
    {
     "name": "stdout",
     "output_type": "stream",
     "text": [
      "                City  Population Violent_Crime  Murder  Rape  Robbery  \\\n",
      "0            Alachua        9338            36       0     2        2   \n",
      "1  Altamonte Springs       42040           150       0     8       37   \n",
      "2              Altha         536             1       0     0        0   \n",
      "3       Apalachicola        2269             1       0     0        0   \n",
      "4             Apopka       45397           178       1    11       57   \n",
      "\n",
      "   Aggravated_Assault  Property_Crime Burglary Larceny_Theft  \\\n",
      "0                  32         166.000       40           120   \n",
      "1                 105        1564.000      300          1180   \n",
      "2                   1           3.000        3             0   \n",
      "3                   1          35.000        8            27   \n",
      "4                 109        1527.000      231          1202   \n",
      "\n",
      "  Motor_Vehicle_Theft  Arson Poperty_Crime  Robbery_Cat  Murder_Cat  \n",
      "0                   6      1           166            1           0  \n",
      "1                  84      3          1564            1           0  \n",
      "2                   0      0             3            0           0  \n",
      "3                   0      0            35            0           0  \n",
      "4                  94      6          1527            1           1  \n"
     ]
    }
   ],
   "source": [
    "df['Murder'] = pd.to_numeric(df['Murder'])\n",
    "df['Murder_Cat'] = np.where(df['Murder']>0, 1, 0)\n",
    "print(df.head())"
   ]
  },
  {
   "cell_type": "code",
   "execution_count": 79,
   "metadata": {},
   "outputs": [
    {
     "name": "stdout",
     "output_type": "stream",
     "text": [
      "Population            7.059\n",
      "Murder                9.071\n",
      "Rape                  9.183\n",
      "Robbery               8.423\n",
      "Aggravated_Assault    6.773\n",
      "Property_Crime        6.673\n",
      "Arson                 6.840\n",
      "Robbery_Cat          -1.743\n",
      "Murder_Cat            0.577\n",
      "dtype: float64\n"
     ]
    }
   ],
   "source": [
    "print(df.skew())"
   ]
  },
  {
   "cell_type": "code",
   "execution_count": 80,
   "metadata": {},
   "outputs": [
    {
     "data": {
      "text/plain": [
       "<matplotlib.axes._subplots.AxesSubplot at 0x1174695f8>"
      ]
     },
     "execution_count": 80,
     "metadata": {},
     "output_type": "execute_result"
    },
    {
     "data": {
      "image/png": "[encoded data removed]",
      "text/plain": [
       "<matplotlib.figure.Figure at 0x117466e80>"
      ]
     },
     "metadata": {},
     "output_type": "display_data"
    }
   ],
   "source": [
    "sns.distplot(df['Population'], kde = True, color = 'b', hist_kws={'alpha': 0.9})"
   ]
  },
  {
   "cell_type": "code",
   "execution_count": 81,
   "metadata": {},
   "outputs": [
    {
     "data": {
      "text/plain": [
       "array([[<matplotlib.axes._subplots.AxesSubplot object at 0x117409400>,\n",
       "        <matplotlib.axes._subplots.AxesSubplot object at 0x11753d390>]], dtype=object)"
      ]
     },
     "execution_count": 81,
     "metadata": {},
     "output_type": "execute_result"
    },
    {
     "data": {
      "image/png": "[encoded data removed]",
      "text/plain": [
       "<matplotlib.figure.Figure at 0x117456390>"
      ]
     },
     "metadata": {},
     "output_type": "display_data"
    }
   ],
   "source": [
    "#Log the population variable \n",
    "plt.rcParams['figure.figsize'] = (6.0, 3.0)\n",
    "population = pd.DataFrame({\"Population\":df[\"Population\"], \"log(population)\":np.log(df[\"Population\"])})\n",
    "population.hist(bins = 10)"
   ]
  },
  {
   "cell_type": "code",
   "execution_count": 82,
   "metadata": {},
   "outputs": [],
   "source": [
    "df['Population'] = np.log(df[\"Population\"])"
   ]
  },
  {
   "cell_type": "code",
   "execution_count": 83,
   "metadata": {},
   "outputs": [
    {
     "name": "stdout",
     "output_type": "stream",
     "text": [
      "                City  Population Violent_Crime  Murder  Rape  Robbery  \\\n",
      "0            Alachua       9.142            36       0     2        2   \n",
      "1  Altamonte Springs      10.646           150       0     8       37   \n",
      "2              Altha       6.284             1       0     0        0   \n",
      "3       Apalachicola       7.727             1       0     0        0   \n",
      "4             Apopka      10.723           178       1    11       57   \n",
      "\n",
      "   Aggravated_Assault  Property_Crime Burglary Larceny_Theft  \\\n",
      "0                  32         166.000       40           120   \n",
      "1                 105        1564.000      300          1180   \n",
      "2                   1           3.000        3             0   \n",
      "3                   1          35.000        8            27   \n",
      "4                 109        1527.000      231          1202   \n",
      "\n",
      "  Motor_Vehicle_Theft  Arson Poperty_Crime  Robbery_Cat  Murder_Cat  \\\n",
      "0                   6      1           166            1           0   \n",
      "1                  84      3          1564            1           0   \n",
      "2                   0      0             3            0           0   \n",
      "3                   0      0            35            0           0   \n",
      "4                  94      6          1527            1           1   \n",
      "\n",
      "   Population_Squared  \n",
      "0              83.573  \n",
      "1             113.345  \n",
      "2              39.490  \n",
      "3              59.708  \n",
      "4             114.987  \n"
     ]
    }
   ],
   "source": [
    "#If your data is suffering from nonlinearity, transform the dependent variables using sqrt, log, square, etc.\n",
    "df['Population_Squared'] = df['Population']**2\n",
    "print(df.head())"
   ]
  },
  {
   "cell_type": "code",
   "execution_count": 84,
   "metadata": {},
   "outputs": [
    {
     "data": {
      "text/plain": [
       "<matplotlib.axes._subplots.AxesSubplot at 0x117553ba8>"
      ]
     },
     "execution_count": 84,
     "metadata": {},
     "output_type": "execute_result"
    },
    {
     "data": {
      "image/png": "[encoded data removed]",
      "text/plain": [
       "<matplotlib.figure.Figure at 0x11745b6d8>"
      ]
     },
     "metadata": {},
     "output_type": "display_data"
    }
   ],
   "source": [
    "#Check if population squared is normally distributed.\n",
    "sns.distplot(df['Population_Squared'], kde = True, color = 'b', hist_kws={'alpha': 0.9})"
   ]
  },
  {
   "cell_type": "code",
   "execution_count": 85,
   "metadata": {},
   "outputs": [
    {
     "data": {
      "text/plain": [
       "<matplotlib.axes._subplots.AxesSubplot at 0x1175cde10>"
      ]
     },
     "execution_count": 85,
     "metadata": {},
     "output_type": "execute_result"
    },
    {
     "data": {
      "image/png": "[encoded data removed]",
      "text/plain": [
       "<matplotlib.figure.Figure at 0x1176af5c0>"
      ]
     },
     "metadata": {},
     "output_type": "display_data"
    }
   ],
   "source": [
    "#Check if aggravated assault is normally distributed.\n",
    "sns.distplot(df['Aggravated_Assault'], kde = True, color = 'b', hist_kws={'alpha': 0.9})"
   ]
  },
  {
   "cell_type": "code",
   "execution_count": 86,
   "metadata": {},
   "outputs": [
    {
     "data": {
      "text/plain": [
       "array([[<matplotlib.axes._subplots.AxesSubplot object at 0x1176bf390>,\n",
       "        <matplotlib.axes._subplots.AxesSubplot object at 0x117390160>]], dtype=object)"
      ]
     },
     "execution_count": 86,
     "metadata": {},
     "output_type": "execute_result"
    },
    {
     "data": {
      "image/png": "[encoded data removed]",
      "text/plain": [
       "<matplotlib.figure.Figure at 0x1178cb0f0>"
      ]
     },
     "metadata": {},
     "output_type": "display_data"
    }
   ],
   "source": [
    "#Log the aggravated assault variable \n",
    "plt.rcParams['figure.figsize'] = (6.0, 3.0)\n",
    "population = pd.DataFrame({\"Aggravated_Assault\":df[\"Aggravated_Assault\"], \n",
    "                           \"log(Aggravated_Assault+1)\":np.log1p(df[\"Aggravated_Assault\"])})\n",
    "population.hist(bins = 10)"
   ]
  },
  {
   "cell_type": "code",
   "execution_count": 87,
   "metadata": {},
   "outputs": [],
   "source": [
    "df['Aggravated_Assault'] = np.log1p(df[\"Aggravated_Assault\"])"
   ]
  },
  {
   "cell_type": "code",
   "execution_count": 88,
   "metadata": {},
   "outputs": [
    {
     "data": {
      "text/plain": [
       "<matplotlib.axes._subplots.AxesSubplot at 0x117333cf8>"
      ]
     },
     "execution_count": 88,
     "metadata": {},
     "output_type": "execute_result"
    },
    {
     "data": {
      "image/png": "[encoded data removed]",
      "text/plain": [
       "<matplotlib.figure.Figure at 0x11458c470>"
      ]
     },
     "metadata": {},
     "output_type": "display_data"
    }
   ],
   "source": [
    "sns.distplot(df['Property_Crime'], kde = True, color = 'b', hist_kws={'alpha': 0.9})"
   ]
  },
  {
   "cell_type": "code",
   "execution_count": 89,
   "metadata": {},
   "outputs": [
    {
     "data": {
      "text/plain": [
       "array([[<matplotlib.axes._subplots.AxesSubplot object at 0x117499cc0>,\n",
       "        <matplotlib.axes._subplots.AxesSubplot object at 0x1179d7278>]], dtype=object)"
      ]
     },
     "execution_count": 89,
     "metadata": {},
     "output_type": "execute_result"
    },
    {
     "data": {
      "image/png": "[encoded data removed]",
      "text/plain": [
       "<matplotlib.figure.Figure at 0x1145834a8>"
      ]
     },
     "metadata": {},
     "output_type": "display_data"
    }
   ],
   "source": [
    "#Log the property crime variable \n",
    "plt.rcParams['figure.figsize'] = (6.0, 3.0)\n",
    "population = pd.DataFrame({\"Property Crime\":df[\"Property_Crime\"], \"log(property crime+1)\":np.log1p(df[\"Property_Crime\"])})\n",
    "population.hist(bins = 10)"
   ]
  },
  {
   "cell_type": "code",
   "execution_count": 90,
   "metadata": {},
   "outputs": [],
   "source": [
    "df['Property_Crime'] = np.log1p(df[\"Property_Crime\"])"
   ]
  },
  {
   "cell_type": "code",
   "execution_count": 91,
   "metadata": {},
   "outputs": [
    {
     "data": {
      "text/plain": [
       "Intercept            -4.140\n",
       "Population            1.083\n",
       "Population_Squared   -0.018\n",
       "Aggravated_Assault    0.307\n",
       "Murder_Cat            0.070\n",
       "Robbery_Cat           0.395\n",
       "dtype: float64"
      ]
     },
     "execution_count": 91,
     "metadata": {},
     "output_type": "execute_result"
    }
   ],
   "source": [
    "linear_formula = 'Property_Crime ~ Population + Population_Squared + Aggravated_Assault + Murder_Cat + Robbery_Cat'\n",
    "lm = smf.ols(formula=linear_formula, data=df).fit()\n",
    "lm.params"
   ]
  },
  {
   "cell_type": "code",
   "execution_count": 92,
   "metadata": {},
   "outputs": [
    {
     "data": {
      "text/plain": [
       "Intercept            0.000\n",
       "Population           0.000\n",
       "Population_Squared   0.139\n",
       "Aggravated_Assault   0.000\n",
       "Murder_Cat           0.414\n",
       "Robbery_Cat          0.001\n",
       "dtype: float64"
      ]
     },
     "execution_count": 92,
     "metadata": {},
     "output_type": "execute_result"
    }
   ],
   "source": [
    "lm.pvalues"
   ]
  },
  {
   "cell_type": "code",
   "execution_count": 93,
   "metadata": {},
   "outputs": [
    {
     "data": {
      "text/plain": [
       "0.91618636098167516"
      ]
     },
     "execution_count": 93,
     "metadata": {},
     "output_type": "execute_result"
    }
   ],
   "source": [
    "lm.rsquared"
   ]
  },
  {
   "cell_type": "code",
   "execution_count": 94,
   "metadata": {},
   "outputs": [
    {
     "name": "stdout",
     "output_type": "stream",
     "text": [
      "\n",
      "Coefficients: \n",
      " [[ 1.08348315 -0.01754     0.30657766  0.07006359  0.39472295]]\n",
      "\n",
      "Intercept: \n",
      " [-4.14036293]\n",
      "\n",
      "R-squared:\n",
      "0.916186360982\n"
     ]
    }
   ],
   "source": [
    "regr = linear_model.LinearRegression()\n",
    "x = df[['Population', 'Population_Squared', 'Aggravated_Assault','Murder_Cat', 'Robbery_Cat']]\n",
    "y = df['Property_Crime'].values.reshape(-1,1)\n",
    "regr.fit(x,y)\n",
    "\n",
    "#Inspect the results\n",
    "print('\\nCoefficients: \\n', regr.coef_)\n",
    "print('\\nIntercept: \\n', regr.intercept_)\n",
    "print('\\nR-squared:')\n",
    "print(regr.score(x,y))"
   ]
  },
  {
   "cell_type": "code",
   "execution_count": 95,
   "metadata": {},
   "outputs": [
    {
     "data": {
      "image/png": "[encoded data removed]",
      "text/plain": [
       "<matplotlib.figure.Figure at 0x1172211d0>"
      ]
     },
     "metadata": {},
     "output_type": "display_data"
    },
    {
     "data": {
      "image/png": "[encoded data removed]",
      "text/plain": [
       "<matplotlib.figure.Figure at 0x117aeaa58>"
      ]
     },
     "metadata": {},
     "output_type": "display_data"
    }
   ],
   "source": [
    "# Extract predicted values.\n",
    "predicted = regr.predict(x).ravel()\n",
    "predicted = np.expm1(predicted)\n",
    "actual = df['Property_Crime']\n",
    "actual = np.expm1(actual)\n",
    "\n",
    "# Calculate the error, also called the residual.\n",
    "residual = actual - predicted\n",
    "\n",
    "plt.hist(residual)\n",
    "plt.title('Residual counts')\n",
    "plt.xlabel('Residual')\n",
    "plt.ylabel('Count')\n",
    "plt.show()\n",
    "\n",
    "plt.scatter(predicted, residual)\n",
    "plt.xlabel('Predicted')\n",
    "plt.ylabel('Residual')\n",
    "plt.axhline(y=0)\n",
    "plt.title('Residual vs. Predicted')\n",
    "plt.show()"
   ]
  },
  {
   "cell_type": "code",
   "execution_count": null,
   "metadata": {},
   "outputs": [],
   "source": []
  },
  {
   "cell_type": "code",
   "execution_count": null,
   "metadata": {},
   "outputs": [],
   "source": []
  }
 ],
 "metadata": {
  "kernelspec": {
   "display_name": "Python 3",
   "language": "python",
   "name": "python3"
  },
  "language_info": {
   "codemirror_mode": {
    "name": "ipython",
    "version": 3
   },
   "file_extension": ".py",
   "mimetype": "text/x-python",
   "name": "python",
   "nbconvert_exporter": "python",
   "pygments_lexer": "ipython3",
   "version": "3.6.3"
  }
 },
 "nbformat": 4,
 "nbformat_minor": 2
}
