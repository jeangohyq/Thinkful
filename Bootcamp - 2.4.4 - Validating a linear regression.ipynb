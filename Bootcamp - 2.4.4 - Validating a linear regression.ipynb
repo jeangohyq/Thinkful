{
 "cells": [
  {
   "cell_type": "code",
   "execution_count": 146,
   "metadata": {},
   "outputs": [],
   "source": [
    "import math\n",
    "import warnings\n",
    "\n",
    "from IPython.display import display\n",
    "from matplotlib import pyplot as plt\n",
    "import numpy as np\n",
    "import pandas as pd\n",
    "import seaborn as sns\n",
    "from sklearn import linear_model\n",
    "import statsmodels.formula.api as smf\n",
    "from scipy.stats import mstats\n",
    "import statsmodels.api as sm\n",
    "\n",
    "# Display preferences.\n",
    "%matplotlib inline\n",
    "pd.options.display.float_format = '{:.3f}'.format\n",
    "\n",
    "# Suppress annoying harmless error.\n",
    "warnings.filterwarnings(\n",
    "    action=\"ignore\",\n",
    "    module=\"scipy\",\n",
    "    message=\"^internal gelsd\"\n",
    ")"
   ]
  },
  {
   "cell_type": "code",
   "execution_count": 147,
   "metadata": {},
   "outputs": [],
   "source": [
    "df = pd.read_csv(\"crimes.csv\")"
   ]
  },
  {
   "cell_type": "code",
   "execution_count": 148,
   "metadata": {},
   "outputs": [],
   "source": [
    "df = df.drop(['Rape\\r(revised\\rdefinition)1'], axis=1)"
   ]
  },
  {
   "cell_type": "code",
   "execution_count": 149,
   "metadata": {},
   "outputs": [
    {
     "name": "stdout",
     "output_type": "stream",
     "text": [
      "                       City Population Violent Crime  Murder Rape Robbery  \\\n",
      "0             Adams Village      1,861             0       0    0       0   \n",
      "1  Addison Town and Village      2,577             3       0    0       0   \n",
      "2             Akron Village      2,846             3       0    0       0   \n",
      "3                    Albany     97,956           791       8   30     227   \n",
      "4            Albion Village      6,388            23       0    3       4   \n",
      "\n",
      "  Aggravated Assault Property Crime Burglary Larceny Theft  \\\n",
      "0                  0             12        2            10   \n",
      "1                  3             24        3            20   \n",
      "2                  3             16        1            15   \n",
      "3                526          4,090      705         3,243   \n",
      "4                 16            223       53           165   \n",
      "\n",
      "  Motor vehicle Theft  Arson  \n",
      "0                   0  0.000  \n",
      "1                   1  0.000  \n",
      "2                   0  0.000  \n",
      "3                 142    nan  \n",
      "4                   5    nan  \n"
     ]
    }
   ],
   "source": [
    "df = df.rename(columns={'Violent\\rcrime': 'Violent Crime', \n",
    "                        'Murder and\\rnonnegligent\\rmanslaughter': 'Murder',\n",
    "                       'Rape\\r(legacy\\rdefinition)2' : 'Rape',\n",
    "                       'Aggravated\\rassault' : 'Aggravated Assault',\n",
    "                       'Property\\rcrime': 'Property Crime',\n",
    "                       'Larceny-\\rtheft': 'Larceny Theft',\n",
    "                       'Motor\\rvehicle\\rtheft': 'Motor vehicle Theft',\n",
    "                       'Arson3': 'Arson'})\n",
    "print(df.head())"
   ]
  },
  {
   "cell_type": "code",
   "execution_count": 150,
   "metadata": {},
   "outputs": [],
   "source": [
    "df['Robbery'] = df['Robbery'].str.replace(',', '')\n",
    "df['Larceny Theft'] = df['Larceny Theft'].str.replace(',', '')\n",
    "df['Property Crime'] = df['Property Crime'].str.replace(',', '')\n",
    "df['Burglary'] = df['Burglary'].str.replace(',', '')\n",
    "df['Population'] = df['Population'].str.replace(',', '')\n",
    "df['Poperty Crime'] = df['Property Crime'].str.replace(',', '')"
   ]
  },
  {
   "cell_type": "code",
   "execution_count": 151,
   "metadata": {},
   "outputs": [],
   "source": [
    "df['Property Crime'] = pd.to_numeric(df['Property Crime'])\n",
    "df['Population'] = pd.to_numeric(df['Population'])"
   ]
  },
  {
   "cell_type": "code",
   "execution_count": 152,
   "metadata": {},
   "outputs": [
    {
     "name": "stdout",
     "output_type": "stream",
     "text": [
      "                       City  Population Violent Crime  Murder Rape  Robbery  \\\n",
      "0             Adams Village        1861             0       0    0        0   \n",
      "1  Addison Town and Village        2577             3       0    0        0   \n",
      "2             Akron Village        2846             3       0    0        0   \n",
      "3                    Albany       97956           791       8   30      227   \n",
      "4            Albion Village        6388            23       0    3        4   \n",
      "\n",
      "  Aggravated Assault  Property Crime Burglary Larceny Theft  \\\n",
      "0                  0              12        2            10   \n",
      "1                  3              24        3            20   \n",
      "2                  3              16        1            15   \n",
      "3                526            4090      705          3243   \n",
      "4                 16             223       53           165   \n",
      "\n",
      "  Motor vehicle Theft  Arson Poperty Crime  Robbery Cat  \n",
      "0                   0  0.000            12            0  \n",
      "1                   1  0.000            24            0  \n",
      "2                   0  0.000            16            0  \n",
      "3                 142  0.000          4090            1  \n",
      "4                   5  0.000           223            1  \n"
     ]
    }
   ],
   "source": [
    "df['Robbery'] = pd.to_numeric(df['Robbery'])\n",
    "df['Robbery Cat'] = np.where(df['Robbery']>0, 1, 0)\n",
    "df['Arson']=df['Arson'].fillna(0)\n",
    "print(df.head())"
   ]
  },
  {
   "cell_type": "code",
   "execution_count": 153,
   "metadata": {},
   "outputs": [
    {
     "name": "stdout",
     "output_type": "stream",
     "text": [
      "                       City  Population Violent Crime  Murder Rape  Robbery  \\\n",
      "0             Adams Village        1861             0       0    0        0   \n",
      "1  Addison Town and Village        2577             3       0    0        0   \n",
      "2             Akron Village        2846             3       0    0        0   \n",
      "3                    Albany       97956           791       8   30      227   \n",
      "4            Albion Village        6388            23       0    3        4   \n",
      "\n",
      "  Aggravated Assault  Property Crime Burglary Larceny Theft  \\\n",
      "0                  0              12        2            10   \n",
      "1                  3              24        3            20   \n",
      "2                  3              16        1            15   \n",
      "3                526            4090      705          3243   \n",
      "4                 16             223       53           165   \n",
      "\n",
      "  Motor vehicle Theft  Arson Poperty Crime  Robbery Cat  Murder Cat  \n",
      "0                   0  0.000            12            0           0  \n",
      "1                   1  0.000            24            0           0  \n",
      "2                   0  0.000            16            0           0  \n",
      "3                 142  0.000          4090            1           1  \n",
      "4                   5  0.000           223            1           0  \n"
     ]
    }
   ],
   "source": [
    "df['Murder'] = pd.to_numeric(df['Murder'])\n",
    "df['Murder Cat'] = np.where(df['Murder']>0, 1, 0)\n",
    "print(df.head())"
   ]
  },
  {
   "cell_type": "code",
   "execution_count": 154,
   "metadata": {},
   "outputs": [
    {
     "name": "stdout",
     "output_type": "stream",
     "text": [
      "Population       18.554\n",
      "Murder           17.601\n",
      "Robbery          18.425\n",
      "Property Crime   18.165\n",
      "Arson            14.412\n",
      "Robbery Cat      -0.412\n",
      "Murder Cat        2.074\n",
      "dtype: float64\n"
     ]
    }
   ],
   "source": [
    "print(df.skew())"
   ]
  },
  {
   "cell_type": "code",
   "execution_count": 155,
   "metadata": {},
   "outputs": [
    {
     "data": {
      "text/plain": [
       "<matplotlib.axes._subplots.AxesSubplot at 0x11993fba8>"
      ]
     },
     "execution_count": 155,
     "metadata": {},
     "output_type": "execute_result"
    },
    {
     "data": {
      "image/png": "[encoded data removed]",
      "text/plain": [
       "<matplotlib.figure.Figure at 0x11993de48>"
      ]
     },
     "metadata": {},
     "output_type": "display_data"
    }
   ],
   "source": [
    "sns.distplot(df['Population'], kde = True, color = 'b', hist_kws={'alpha': 0.9})"
   ]
  },
  {
   "cell_type": "code",
   "execution_count": 156,
   "metadata": {},
   "outputs": [],
   "source": [
    "#Idx is index maximum\n",
    "df['Population'].idxmax(axis=1)\n",
    "df = df.drop(df.index[216])\n",
    "#Drop row 216 as it's an anomaly data"
   ]
  },
  {
   "cell_type": "code",
   "execution_count": 157,
   "metadata": {},
   "outputs": [
    {
     "data": {
      "text/plain": [
       "<matplotlib.axes._subplots.AxesSubplot at 0x1199c1c50>"
      ]
     },
     "execution_count": 157,
     "metadata": {},
     "output_type": "execute_result"
    },
    {
     "data": {
      "image/png": "[encoded data removed]",
      "text/plain": [
       "<matplotlib.figure.Figure at 0x11993dda0>"
      ]
     },
     "metadata": {},
     "output_type": "display_data"
    }
   ],
   "source": [
    "#Check if population is normally distributed\n",
    "sns.distplot(df['Population'], kde = True, color = 'b', hist_kws={'alpha': 0.9})"
   ]
  },
  {
   "cell_type": "code",
   "execution_count": 158,
   "metadata": {},
   "outputs": [
    {
     "data": {
      "text/plain": [
       "array([[<matplotlib.axes._subplots.AxesSubplot object at 0x119c317f0>,\n",
       "        <matplotlib.axes._subplots.AxesSubplot object at 0x11976af60>]], dtype=object)"
      ]
     },
     "execution_count": 158,
     "metadata": {},
     "output_type": "execute_result"
    },
    {
     "data": {
      "image/png": "[encoded data removed]",
      "text/plain": [
       "<matplotlib.figure.Figure at 0x119a5d3c8>"
      ]
     },
     "metadata": {},
     "output_type": "display_data"
    }
   ],
   "source": [
    "#Log the population variable \n",
    "plt.rcParams['figure.figsize'] = (6.0, 3.0)\n",
    "population = pd.DataFrame({\"Population\":df[\"Population\"], \"log(population)\":np.log(df[\"Population\"])})\n",
    "population.hist(bins = 10)"
   ]
  },
  {
   "cell_type": "code",
   "execution_count": 159,
   "metadata": {},
   "outputs": [],
   "source": [
    "df['Population'] = np.log(df[\"Population\"])"
   ]
  },
  {
   "cell_type": "code",
   "execution_count": 160,
   "metadata": {},
   "outputs": [
    {
     "name": "stdout",
     "output_type": "stream",
     "text": [
      "                       City  Population Violent Crime  Murder Rape  Robbery  \\\n",
      "0             Adams Village       7.529             0       0    0        0   \n",
      "1  Addison Town and Village       7.854             3       0    0        0   \n",
      "2             Akron Village       7.954             3       0    0        0   \n",
      "3                    Albany      11.492           791       8   30      227   \n",
      "4            Albion Village       8.762            23       0    3        4   \n",
      "\n",
      "  Aggravated Assault  Property Crime Burglary Larceny Theft  \\\n",
      "0                  0              12        2            10   \n",
      "1                  3              24        3            20   \n",
      "2                  3              16        1            15   \n",
      "3                526            4090      705          3243   \n",
      "4                 16             223       53           165   \n",
      "\n",
      "  Motor vehicle Theft  Arson Poperty Crime  Robbery Cat  Murder Cat  \n",
      "0                   0  0.000            12            0           0  \n",
      "1                   1  0.000            24            0           0  \n",
      "2                   0  0.000            16            0           0  \n",
      "3                 142  0.000          4090            1           1  \n",
      "4                   5  0.000           223            1           0  \n"
     ]
    }
   ],
   "source": [
    "print(df.head())"
   ]
  },
  {
   "cell_type": "code",
   "execution_count": 161,
   "metadata": {},
   "outputs": [
    {
     "name": "stdout",
     "output_type": "stream",
     "text": [
      "                       City  Population Violent Crime  Murder Rape  Robbery  \\\n",
      "0             Adams Village       7.529             0       0    0        0   \n",
      "1  Addison Town and Village       7.854             3       0    0        0   \n",
      "2             Akron Village       7.954             3       0    0        0   \n",
      "3                    Albany      11.492           791       8   30      227   \n",
      "4            Albion Village       8.762            23       0    3        4   \n",
      "\n",
      "  Aggravated Assault  Property Crime Burglary Larceny Theft  \\\n",
      "0                  0              12        2            10   \n",
      "1                  3              24        3            20   \n",
      "2                  3              16        1            15   \n",
      "3                526            4090      705          3243   \n",
      "4                 16             223       53           165   \n",
      "\n",
      "  Motor vehicle Theft  Arson Poperty Crime  Robbery Cat  Murder Cat  \\\n",
      "0                   0  0.000            12            0           0   \n",
      "1                   1  0.000            24            0           0   \n",
      "2                   0  0.000            16            0           0   \n",
      "3                 142  0.000          4090            1           1   \n",
      "4                   5  0.000           223            1           0   \n",
      "\n",
      "   Population Squared  \n",
      "0              56.684  \n",
      "1              61.691  \n",
      "2              63.261  \n",
      "3             132.072  \n",
      "4              76.776  \n"
     ]
    }
   ],
   "source": [
    "#If your data is suffering from nonlinearity, transform the dependent variables using sqrt, log, square, etc.\n",
    "df['Population Squared'] = df['Population']**2\n",
    "print(df.head())"
   ]
  },
  {
   "cell_type": "code",
   "execution_count": 162,
   "metadata": {},
   "outputs": [
    {
     "data": {
      "text/plain": [
       "<matplotlib.axes._subplots.AxesSubplot at 0x119471860>"
      ]
     },
     "execution_count": 162,
     "metadata": {},
     "output_type": "execute_result"
    },
    {
     "data": {
      "image/png": "[encoded data removed]",
      "text/plain": [
       "<matplotlib.figure.Figure at 0x119737240>"
      ]
     },
     "metadata": {},
     "output_type": "display_data"
    }
   ],
   "source": [
    "df.boxplot(column=\"Population\")"
   ]
  },
  {
   "cell_type": "code",
   "execution_count": 163,
   "metadata": {},
   "outputs": [
    {
     "data": {
      "text/plain": [
       "<matplotlib.axes._subplots.AxesSubplot at 0x119290240>"
      ]
     },
     "execution_count": 163,
     "metadata": {},
     "output_type": "execute_result"
    },
    {
     "data": {
      "image/png": "[encoded data removed]",
      "text/plain": [
       "<matplotlib.figure.Figure at 0x119cb3c18>"
      ]
     },
     "metadata": {},
     "output_type": "display_data"
    }
   ],
   "source": [
    "#Check if population squared is normally distributed\n",
    "sns.distplot(df['Population Squared'], kde = True, color = 'b', hist_kws={'alpha': 0.9})"
   ]
  },
  {
   "cell_type": "code",
   "execution_count": 164,
   "metadata": {},
   "outputs": [
    {
     "data": {
      "text/plain": [
       "<matplotlib.axes._subplots.AxesSubplot at 0x117cd5438>"
      ]
     },
     "execution_count": 164,
     "metadata": {},
     "output_type": "execute_result"
    },
    {
     "data": {
      "image/png": "[encoded data removed]",
      "text/plain": [
       "<matplotlib.figure.Figure at 0x117cd1cf8>"
      ]
     },
     "metadata": {},
     "output_type": "display_data"
    }
   ],
   "source": [
    "df.boxplot(column=\"Population Squared\")"
   ]
  },
  {
   "cell_type": "code",
   "execution_count": null,
   "metadata": {},
   "outputs": [],
   "source": []
  },
  {
   "cell_type": "code",
   "execution_count": 165,
   "metadata": {},
   "outputs": [
    {
     "data": {
      "text/plain": [
       "<matplotlib.axes._subplots.AxesSubplot at 0x1190a5080>"
      ]
     },
     "execution_count": 165,
     "metadata": {},
     "output_type": "execute_result"
    },
    {
     "data": {
      "image/png": "[encoded data removed]",
      "text/plain": [
       "<matplotlib.figure.Figure at 0x117ccfa20>"
      ]
     },
     "metadata": {},
     "output_type": "display_data"
    }
   ],
   "source": [
    "df.boxplot(column=\"Population Squared\")"
   ]
  },
  {
   "cell_type": "code",
   "execution_count": 166,
   "metadata": {},
   "outputs": [
    {
     "data": {
      "text/plain": [
       "<matplotlib.axes._subplots.AxesSubplot at 0x1191370f0>"
      ]
     },
     "execution_count": 166,
     "metadata": {},
     "output_type": "execute_result"
    },
    {
     "data": {
      "image/png": "[encoded data removed]",
      "text/plain": [
       "<matplotlib.figure.Figure at 0x119388198>"
      ]
     },
     "metadata": {},
     "output_type": "display_data"
    }
   ],
   "source": [
    "sns.distplot(df['Property Crime'], kde = True, color = 'b', hist_kws={'alpha': 0.9})"
   ]
  },
  {
   "cell_type": "code",
   "execution_count": 167,
   "metadata": {},
   "outputs": [
    {
     "data": {
      "text/plain": [
       "array([[<matplotlib.axes._subplots.AxesSubplot object at 0x119438198>,\n",
       "        <matplotlib.axes._subplots.AxesSubplot object at 0x1191acd68>]], dtype=object)"
      ]
     },
     "execution_count": 167,
     "metadata": {},
     "output_type": "execute_result"
    },
    {
     "data": {
      "image/png": "[encoded data removed]",
      "text/plain": [
       "<matplotlib.figure.Figure at 0x119410048>"
      ]
     },
     "metadata": {},
     "output_type": "display_data"
    }
   ],
   "source": [
    "#Log the population variable \n",
    "plt.rcParams['figure.figsize'] = (6.0, 3.0)\n",
    "population = pd.DataFrame({\"Property Crime\":df[\"Property Crime\"], \"log(property crime+1)\":np.log1p(df[\"Property Crime\"])})\n",
    "population.hist(bins = 10)"
   ]
  },
  {
   "cell_type": "code",
   "execution_count": 168,
   "metadata": {},
   "outputs": [],
   "source": [
    "df['Property Crime'] = np.log1p(df[\"Property Crime\"])"
   ]
  },
  {
   "cell_type": "code",
   "execution_count": 169,
   "metadata": {},
   "outputs": [
    {
     "name": "stdout",
     "output_type": "stream",
     "text": [
      "\n",
      "Coefficients: \n",
      " [[ 1.04101667 -0.00552825  0.26720445  0.88222846]]\n",
      "\n",
      "Intercept: \n",
      " [-4.70706671]\n",
      "\n",
      "R-squared:\n",
      "0.791041822862\n"
     ]
    }
   ],
   "source": [
    "regr = linear_model.LinearRegression()\n",
    "x = df[['Population', 'Population Squared', 'Murder Cat', 'Robbery Cat']]\n",
    "y = df['Property Crime'].values.reshape(-1,1)\n",
    "regr.fit(x,y)\n",
    "\n",
    "#Inspect the results\n",
    "print('\\nCoefficients: \\n', regr.coef_)\n",
    "print('\\nIntercept: \\n', regr.intercept_)\n",
    "print('\\nR-squared:')\n",
    "print(regr.score(x,y))"
   ]
  },
  {
   "cell_type": "code",
   "execution_count": 136,
   "metadata": {},
   "outputs": [
    {
     "data": {
      "text/html": [
       "<table class=\"simpletable\">\n",
       "<caption>OLS Regression Results</caption>\n",
       "<tr>\n",
       "  <th>Dep. Variable:</th>     <td>Property Crime</td>  <th>  R-squared:         </th> <td>   0.791</td> \n",
       "</tr>\n",
       "<tr>\n",
       "  <th>Model:</th>                   <td>OLS</td>       <th>  Adj. R-squared:    </th> <td>   0.789</td> \n",
       "</tr>\n",
       "<tr>\n",
       "  <th>Method:</th>             <td>Least Squares</td>  <th>  F-statistic:       </th> <td>   323.7</td> \n",
       "</tr>\n",
       "<tr>\n",
       "  <th>Date:</th>             <td>Mon, 11 Dec 2017</td> <th>  Prob (F-statistic):</th> <td>7.32e-115</td>\n",
       "</tr>\n",
       "<tr>\n",
       "  <th>Time:</th>                 <td>11:37:18</td>     <th>  Log-Likelihood:    </th> <td> -393.87</td> \n",
       "</tr>\n",
       "<tr>\n",
       "  <th>No. Observations:</th>      <td>   347</td>      <th>  AIC:               </th> <td>   797.7</td> \n",
       "</tr>\n",
       "<tr>\n",
       "  <th>Df Residuals:</th>          <td>   342</td>      <th>  BIC:               </th> <td>   817.0</td> \n",
       "</tr>\n",
       "<tr>\n",
       "  <th>Df Model:</th>              <td>     4</td>      <th>                     </th>     <td> </td>    \n",
       "</tr>\n",
       "<tr>\n",
       "  <th>Covariance Type:</th>      <td>nonrobust</td>    <th>                     </th>     <td> </td>    \n",
       "</tr>\n",
       "</table>\n",
       "<table class=\"simpletable\">\n",
       "<tr>\n",
       "           <td></td>             <th>coef</th>     <th>std err</th>      <th>t</th>      <th>P>|t|</th>  <th>[0.025</th>    <th>0.975]</th>  \n",
       "</tr>\n",
       "<tr>\n",
       "  <th>const</th>              <td>   -4.7071</td> <td>    2.036</td> <td>   -2.312</td> <td> 0.021</td> <td>   -8.712</td> <td>   -0.702</td>\n",
       "</tr>\n",
       "<tr>\n",
       "  <th>Population</th>         <td>    1.0410</td> <td>    0.452</td> <td>    2.301</td> <td> 0.022</td> <td>    0.151</td> <td>    1.931</td>\n",
       "</tr>\n",
       "<tr>\n",
       "  <th>Population Squared</th> <td>   -0.0055</td> <td>    0.025</td> <td>   -0.223</td> <td> 0.824</td> <td>   -0.054</td> <td>    0.043</td>\n",
       "</tr>\n",
       "<tr>\n",
       "  <th>Murder Cat</th>         <td>    0.2672</td> <td>    0.142</td> <td>    1.887</td> <td> 0.060</td> <td>   -0.011</td> <td>    0.546</td>\n",
       "</tr>\n",
       "<tr>\n",
       "  <th>Robbery Cat</th>        <td>    0.8822</td> <td>    0.105</td> <td>    8.367</td> <td> 0.000</td> <td>    0.675</td> <td>    1.090</td>\n",
       "</tr>\n",
       "</table>\n",
       "<table class=\"simpletable\">\n",
       "<tr>\n",
       "  <th>Omnibus:</th>       <td>52.590</td> <th>  Durbin-Watson:     </th> <td>   2.054</td>\n",
       "</tr>\n",
       "<tr>\n",
       "  <th>Prob(Omnibus):</th> <td> 0.000</td> <th>  Jarque-Bera (JB):  </th> <td>  91.922</td>\n",
       "</tr>\n",
       "<tr>\n",
       "  <th>Skew:</th>          <td>-0.870</td> <th>  Prob(JB):          </th> <td>1.10e-20</td>\n",
       "</tr>\n",
       "<tr>\n",
       "  <th>Kurtosis:</th>      <td> 4.826</td> <th>  Cond. No.          </th> <td>4.33e+03</td>\n",
       "</tr>\n",
       "</table>"
      ],
      "text/plain": [
       "<class 'statsmodels.iolib.summary.Summary'>\n",
       "\"\"\"\n",
       "                            OLS Regression Results                            \n",
       "==============================================================================\n",
       "Dep. Variable:         Property Crime   R-squared:                       0.791\n",
       "Model:                            OLS   Adj. R-squared:                  0.789\n",
       "Method:                 Least Squares   F-statistic:                     323.7\n",
       "Date:                Mon, 11 Dec 2017   Prob (F-statistic):          7.32e-115\n",
       "Time:                        11:37:18   Log-Likelihood:                -393.87\n",
       "No. Observations:                 347   AIC:                             797.7\n",
       "Df Residuals:                     342   BIC:                             817.0\n",
       "Df Model:                           4                                         \n",
       "Covariance Type:            nonrobust                                         \n",
       "======================================================================================\n",
       "                         coef    std err          t      P>|t|      [0.025      0.975]\n",
       "--------------------------------------------------------------------------------------\n",
       "const                 -4.7071      2.036     -2.312      0.021      -8.712      -0.702\n",
       "Population             1.0410      0.452      2.301      0.022       0.151       1.931\n",
       "Population Squared    -0.0055      0.025     -0.223      0.824      -0.054       0.043\n",
       "Murder Cat             0.2672      0.142      1.887      0.060      -0.011       0.546\n",
       "Robbery Cat            0.8822      0.105      8.367      0.000       0.675       1.090\n",
       "==============================================================================\n",
       "Omnibus:                       52.590   Durbin-Watson:                   2.054\n",
       "Prob(Omnibus):                  0.000   Jarque-Bera (JB):               91.922\n",
       "Skew:                          -0.870   Prob(JB):                     1.10e-20\n",
       "Kurtosis:                       4.826   Cond. No.                     4.33e+03\n",
       "==============================================================================\n",
       "\n",
       "Warnings:\n",
       "[1] Standard Errors assume that the covariance matrix of the errors is correctly specified.\n",
       "[2] The condition number is large, 4.33e+03. This might indicate that there are\n",
       "strong multicollinearity or other numerical problems.\n",
       "\"\"\""
      ]
     },
     "execution_count": 136,
     "metadata": {},
     "output_type": "execute_result"
    }
   ],
   "source": [
    "X = df[['Population', 'Population Squared', 'Murder Cat', 'Robbery Cat']]\n",
    "y = (df['Property Crime'])\n",
    "\n",
    "## fit a OLS model with intercept on TV and Radio\n",
    "X = sm.add_constant(X)\n",
    "est = sm.OLS(y, X).fit()\n",
    "\n",
    "est.summary()"
   ]
  },
  {
   "cell_type": "code",
   "execution_count": 170,
   "metadata": {},
   "outputs": [
    {
     "data": {
      "image/png": "[encoded data removed]",
      "text/plain": [
       "<matplotlib.figure.Figure at 0x11948ce80>"
      ]
     },
     "metadata": {},
     "output_type": "display_data"
    },
    {
     "data": {
      "image/png": "[encoded data removed]",
      "text/plain": [
       "<matplotlib.figure.Figure at 0x1190366a0>"
      ]
     },
     "metadata": {},
     "output_type": "display_data"
    }
   ],
   "source": [
    "# Extract predicted values.\n",
    "predicted = regr.predict(x).ravel()\n",
    "predicted = np.expm1(predicted)\n",
    "actual = df['Property Crime']\n",
    "actual = np.expm1(actual)\n",
    "\n",
    "# Calculate the error, also called the residual.\n",
    "residual = actual - predicted\n",
    "\n",
    "plt.hist(residual)\n",
    "plt.title('Residual counts')\n",
    "plt.xlabel('Residual')\n",
    "plt.ylabel('Count')\n",
    "plt.show()\n",
    "\n",
    "plt.scatter(predicted, residual)\n",
    "plt.xlabel('Predicted')\n",
    "plt.ylabel('Residual')\n",
    "plt.axhline(y=0)\n",
    "plt.title('Residual vs. Predicted')\n",
    "plt.show()"
   ]
  },
  {
   "cell_type": "code",
   "execution_count": 139,
   "metadata": {},
   "outputs": [
    {
     "data": {
      "text/html": [
       "<div>\n",
       "<style scoped>\n",
       "    .dataframe tbody tr th:only-of-type {\n",
       "        vertical-align: middle;\n",
       "    }\n",
       "\n",
       "    .dataframe tbody tr th {\n",
       "        vertical-align: top;\n",
       "    }\n",
       "\n",
       "    .dataframe thead th {\n",
       "        text-align: right;\n",
       "    }\n",
       "</style>\n",
       "<table border=\"1\" class=\"dataframe\">\n",
       "  <thead>\n",
       "    <tr style=\"text-align: right;\">\n",
       "      <th></th>\n",
       "      <th>Population</th>\n",
       "      <th>Population Squared</th>\n",
       "      <th>Murder Cat</th>\n",
       "      <th>Robbery Cat</th>\n",
       "    </tr>\n",
       "  </thead>\n",
       "  <tbody>\n",
       "    <tr>\n",
       "      <th>Population</th>\n",
       "      <td>1.000</td>\n",
       "      <td>0.997</td>\n",
       "      <td>0.489</td>\n",
       "      <td>0.597</td>\n",
       "    </tr>\n",
       "    <tr>\n",
       "      <th>Population Squared</th>\n",
       "      <td>0.997</td>\n",
       "      <td>1.000</td>\n",
       "      <td>0.508</td>\n",
       "      <td>0.585</td>\n",
       "    </tr>\n",
       "    <tr>\n",
       "      <th>Murder Cat</th>\n",
       "      <td>0.489</td>\n",
       "      <td>0.508</td>\n",
       "      <td>1.000</td>\n",
       "      <td>0.311</td>\n",
       "    </tr>\n",
       "    <tr>\n",
       "      <th>Robbery Cat</th>\n",
       "      <td>0.597</td>\n",
       "      <td>0.585</td>\n",
       "      <td>0.311</td>\n",
       "      <td>1.000</td>\n",
       "    </tr>\n",
       "  </tbody>\n",
       "</table>\n",
       "</div>"
      ],
      "text/plain": [
       "                    Population  Population Squared  Murder Cat  Robbery Cat\n",
       "Population               1.000               0.997       0.489        0.597\n",
       "Population Squared       0.997               1.000       0.508        0.585\n",
       "Murder Cat               0.489               0.508       1.000        0.311\n",
       "Robbery Cat              0.597               0.585       0.311        1.000"
      ]
     },
     "metadata": {},
     "output_type": "display_data"
    }
   ],
   "source": [
    "correlation_matrix = x.corr()\n",
    "display(correlation_matrix)"
   ]
  },
  {
   "cell_type": "code",
   "execution_count": null,
   "metadata": {},
   "outputs": [],
   "source": []
  },
  {
   "cell_type": "code",
   "execution_count": 140,
   "metadata": {},
   "outputs": [
    {
     "data": {
      "image/png": "[encoded data removed]",
      "text/plain": [
       "<matplotlib.figure.Figure at 0x1168eee48>"
      ]
     },
     "metadata": {},
     "output_type": "display_data"
    }
   ],
   "source": [
    "correlationMatrix = df.corr().abs()\n",
    "\n",
    "plt.subplots(figsize=(7, 4))\n",
    "sns.heatmap(correlationMatrix,annot=True)\n",
    "\n",
    "# Mask unimportant features\n",
    "sns.heatmap(correlationMatrix, mask=correlationMatrix < 1, cbar=False)\n",
    "plt.show()\n"
   ]
  },
  {
   "cell_type": "code",
   "execution_count": null,
   "metadata": {},
   "outputs": [],
   "source": []
  }
 ],
 "metadata": {
  "kernelspec": {
   "display_name": "Python 3",
   "language": "python",
   "name": "python3"
  },
  "language_info": {
   "codemirror_mode": {
    "name": "ipython",
    "version": 3
   },
   "file_extension": ".py",
   "mimetype": "text/x-python",
   "name": "python",
   "nbconvert_exporter": "python",
   "pygments_lexer": "ipython3",
   "version": "3.6.3"
  }
 },
 "nbformat": 4,
 "nbformat_minor": 2
}
