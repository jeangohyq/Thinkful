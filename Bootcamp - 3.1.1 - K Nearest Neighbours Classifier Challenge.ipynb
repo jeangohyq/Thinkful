{
 "cells": [
  {
   "cell_type": "code",
   "execution_count": 42,
   "metadata": {},
   "outputs": [],
   "source": [
    "import numpy as np\n",
    "import pandas as pd\n",
    "import matplotlib.pyplot as plt\n",
    "import scipy\n",
    "%matplotlib inline"
   ]
  },
  {
   "cell_type": "code",
   "execution_count": 43,
   "metadata": {},
   "outputs": [],
   "source": [
    "paper = pd.DataFrame()\n",
    "\n",
    "# Some data to play with.\n",
    "paper['acid_durability'] = [7, 5, 4, 2, 7, 6, 3, 1, 6, 6, \n",
    "                    6, 3, 4, 5, 7, 6, 4, 3, 7, 2, \n",
    "                     6, 5, 7, 2, 3, 4, 1, 5, 6, 7]\n",
    "paper['strength'] = [4, 6, 4, 7, 7, 2, 3, 5, 1, 2, \n",
    "                     4, 6, 7, 3, 3, 5, 2, 5, 1, 6, \n",
    "                     6, 7, 4, 4, 3, 5, 2, 6, 7, 6]\n",
    "\n",
    "#Identify if paper quality is good or not.\n",
    "paper['good'] = [ 1, 0, 0, 0, 1, 1, 0, 1, 1, 0,\n",
    "                 1, 0, 0, 0, 0, 1, 0, 1, 0, 1,\n",
    "                  0, 1, 1, 0, 1, 1, 0, 1, 1, 1]"
   ]
  },
  {
   "cell_type": "code",
   "execution_count": 44,
   "metadata": {},
   "outputs": [
    {
     "data": {
      "image/png": "[encoded data removed]",
      "text/plain": [
       "<matplotlib.figure.Figure at 0x11121ada0>"
      ]
     },
     "metadata": {},
     "output_type": "display_data"
    }
   ],
   "source": [
    "#Analyzing the data.\n",
    "plt.scatter(\n",
    "    paper[paper['good'] == 1].acid_durability,\n",
    "    paper[paper['good'] == 1].strength,\n",
    "    color = 'red'\n",
    ")\n",
    "plt.scatter(\n",
    "    paper[paper['good'] == 0].acid_durability,\n",
    "    paper[paper['good'] == 0].strength,\n",
    "    color = 'blue'\n",
    ")\n",
    "\n",
    "plt.legend(['Good', 'Bad'])\n",
    "plt.title('Good and Bad Paper Quality')\n",
    "plt.xlabel('Acid Durability')\n",
    "plt.ylabel('Strength')\n",
    "plt.show()"
   ]
  },
  {
   "cell_type": "code",
   "execution_count": 45,
   "metadata": {},
   "outputs": [
    {
     "data": {
      "text/plain": [
       "array([0])"
      ]
     },
     "execution_count": 45,
     "metadata": {},
     "output_type": "execute_result"
    }
   ],
   "source": [
    "from sklearn.neighbors import KNeighborsClassifier\n",
    "neighbors = KNeighborsClassifier(n_neighbors=1)\n",
    "X = paper[['acid_durability', 'strength']]\n",
    "Y = paper.good\n",
    "neighbors.fit(X,Y)\n",
    "\n",
    "## Predict for a paper that has 7 acidity and 3 strength long.\n",
    "neighbors.predict([[7, 3]])\n",
    "#Model shows that it's a good quality paper. "
   ]
  },
  {
   "cell_type": "code",
   "execution_count": 46,
   "metadata": {},
   "outputs": [
    {
     "data": {
      "image/png": "[encoded data removed]",
      "text/plain": [
       "<matplotlib.figure.Figure at 0x114b3d518>"
      ]
     },
     "metadata": {},
     "output_type": "display_data"
    }
   ],
   "source": [
    "#Converting from data frames to arrays\n",
    "X = np.array(X)\n",
    "Y = np.array(Y)\n",
    "\n",
    "#Mesh size (calculate the value for each point in a grid where the points are spaced 1 away from each other)\n",
    "h = 1\n",
    "\n",
    "#Plot the decision bounday. Assign a color to each point in the mesh.\n",
    "x_min = X[:, 0].min() - .5\n",
    "x_max = X[:, 0].max() + .5\n",
    "y_min = X[:, 1].min() - .5\n",
    "y_max = X[:, 1].max() + .5\n",
    "xx, yy = np.meshgrid(\n",
    "    np.arange(x_min, x_max, h),\n",
    "    np.arange(y_min, y_max, h)\n",
    ")\n",
    "Z = neighbors.predict(np.c_[xx.ravel(), yy.ravel()])\n",
    "\n",
    "# Put the result into a color plot.\n",
    "Z = Z.reshape(xx.shape)\n",
    "plt.figure(1, figsize=(6, 4))\n",
    "plt.set_cmap(plt.cm.Paired)\n",
    "plt.pcolormesh(xx, yy, Z)\n",
    "\n",
    "# Add the training points to the plot.\n",
    "plt.scatter(X[:, 0], X[:, 1], c=Y)\n",
    "plt.xlabel('Acid Durability')\n",
    "plt.ylabel('Strength (kg/sq meter)')\n",
    "plt.title('Mesh visualization')\n",
    "\n",
    "plt.xlim(xx.min(), xx.max())\n",
    "plt.ylim(yy.min(), yy.max())\n",
    "\n",
    "plt.show()\n",
    "\n",
    "#Any new point that fell within a blue area would be predicted to be good, \n",
    "#and any point that fell within a brown area would be predicted to be bad."
   ]
  },
  {
   "cell_type": "code",
   "execution_count": null,
   "metadata": {},
   "outputs": [],
   "source": []
  }
 ],
 "metadata": {
  "kernelspec": {
   "display_name": "Python 3",
   "language": "python",
   "name": "python3"
  },
  "language_info": {
   "codemirror_mode": {
    "name": "ipython",
    "version": 3
   },
   "file_extension": ".py",
   "mimetype": "text/x-python",
   "name": "python",
   "nbconvert_exporter": "python",
   "pygments_lexer": "ipython3",
   "version": "3.6.3"
  }
 },
 "nbformat": 4,
 "nbformat_minor": 2
}
