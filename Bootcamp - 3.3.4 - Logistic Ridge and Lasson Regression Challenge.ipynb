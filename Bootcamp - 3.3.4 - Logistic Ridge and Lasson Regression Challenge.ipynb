{
 "cells": [
  {
   "cell_type": "code",
   "execution_count": 521,
   "metadata": {},
   "outputs": [],
   "source": [
    "import math\n",
    "import warnings\n",
    "\n",
    "from IPython.display import display\n",
    "from matplotlib import pyplot as plt\n",
    "import numpy as np\n",
    "import pandas as pd\n",
    "import seaborn as sns\n",
    "from sklearn import linear_model\n",
    "import statsmodels.formula.api as smf\n",
    "from scipy.stats import mstats\n",
    "import statsmodels.api as sm\n",
    "\n",
    "# Display preferences.\n",
    "%matplotlib inline\n",
    "pd.options.display.float_format = '{:.3f}'.format\n",
    "\n",
    "# Suppress annoying harmless error.\n",
    "warnings.filterwarnings(\n",
    "    action=\"ignore\",\n",
    "    module=\"scipy\",\n",
    "    message=\"^internal gelsd\"\n",
    ")"
   ]
  },
  {
   "cell_type": "code",
   "execution_count": 522,
   "metadata": {},
   "outputs": [],
   "source": [
    "#Importing the DataSet. \n",
    "df = pd.read_csv(\"florida crimes.csv\")"
   ]
  },
  {
   "cell_type": "code",
   "execution_count": 523,
   "metadata": {},
   "outputs": [],
   "source": [
    "df = df.drop(['Rape\\r(legacy\\rdefinition)2'], axis=1)"
   ]
  },
  {
   "cell_type": "code",
   "execution_count": 524,
   "metadata": {},
   "outputs": [],
   "source": [
    "df = df.rename(columns={'Violent\\rcrime': 'Violent_Crime', \n",
    "                        'Murder and\\rnonnegligent\\rmanslaughter': 'Murder',\n",
    "                       'Rape\\r(revised\\rdefinition)1' : 'Rape',\n",
    "                       'Aggravated\\rassault' : 'Aggravated_Assault',\n",
    "                       'Property\\rcrime': 'Property_Crime',\n",
    "                       'Larceny-\\rtheft': 'Larceny_Theft',\n",
    "                       'Motor\\rvehicle\\rtheft': 'Motor_Vehicle_Theft',\n",
    "                       'Arson3': 'Arson'})"
   ]
  },
  {
   "cell_type": "code",
   "execution_count": 525,
   "metadata": {},
   "outputs": [],
   "source": [
    "df['Robbery'] = df['Robbery'].str.replace(',', '')\n",
    "df['Larceny_Theft'] = df['Larceny_Theft'].str.replace(',', '')\n",
    "df['Property_Crime'] = df['Property_Crime'].str.replace(',', '')\n",
    "df['Burglary'] = df['Burglary'].str.replace(',', '')\n",
    "df['Population'] = df['Population'].str.replace(',', '')\n",
    "df['Aggravated_Assault'] = df['Aggravated_Assault'].str.replace(',', '')\n",
    "df['Violent_Crime'] = df['Violent_Crime'].str.replace(',', '')\n",
    "df['Motor_Vehicle_Theft'] = df['Motor_Vehicle_Theft'].str.replace(',', '')"
   ]
  },
  {
   "cell_type": "code",
   "execution_count": 526,
   "metadata": {},
   "outputs": [],
   "source": [
    "df[['Population','Violent_Crime','Murder','Rape','Robbery',\n",
    "   'Aggravated_Assault','Property_Crime','Burglary','Larceny_Theft',\n",
    "   'Motor_Vehicle_Theft','Arson']] = df[['Population','Violent_Crime','Murder','Rape','Robbery',\n",
    "   'Aggravated_Assault','Property_Crime','Burglary','Larceny_Theft',\n",
    "   'Motor_Vehicle_Theft','Arson']].apply(pd.to_numeric)"
   ]
  },
  {
   "cell_type": "code",
   "execution_count": 527,
   "metadata": {},
   "outputs": [],
   "source": [
    "df = df.drop(['City'], axis=1)"
   ]
  },
  {
   "cell_type": "code",
   "execution_count": 528,
   "metadata": {},
   "outputs": [],
   "source": [
    "df['Murder_Cat'] = np.where(df['Murder']>0, 1, 0)"
   ]
  },
  {
   "cell_type": "code",
   "execution_count": 529,
   "metadata": {},
   "outputs": [
    {
     "data": {
      "text/plain": [
       "Population             False\n",
       "Violent_Crime          False\n",
       "Murder                 False\n",
       "Rape                   False\n",
       "Robbery                False\n",
       "Aggravated_Assault     False\n",
       "Property_Crime          True\n",
       "Burglary               False\n",
       "Larceny_Theft           True\n",
       "Motor_Vehicle_Theft    False\n",
       "Arson                  False\n",
       "Murder_Cat             False\n",
       "dtype: bool"
      ]
     },
     "execution_count": 529,
     "metadata": {},
     "output_type": "execute_result"
    }
   ],
   "source": [
    "#Check if there are NA values in the dataset\n",
    "df.isnull().any()"
   ]
  },
  {
   "cell_type": "code",
   "execution_count": 530,
   "metadata": {},
   "outputs": [],
   "source": [
    "#Replacing NA values with 0.\n",
    "df['Property_Crime']=df['Property_Crime'].fillna(0)\n",
    "df['Larceny_Theft']=df['Larceny_Theft'].fillna(0)"
   ]
  },
  {
   "cell_type": "code",
   "execution_count": 531,
   "metadata": {},
   "outputs": [
    {
     "data": {
      "image/png": "[encoded data removed]",
      "text/plain": [
       "<matplotlib.figure.Figure at 0x117048a58>"
      ]
     },
     "metadata": {},
     "output_type": "display_data"
    }
   ],
   "source": [
    "#Log the population variable \n",
    "plt.rcParams['figure.figsize'] = (6.0, 3.0)\n",
    "population = pd.DataFrame({\"Population\":df[\"Population\"], \"log(population)\":np.log(df[\"Population\"])})\n",
    "population.hist(bins = 10)\n",
    "df['Population'] = np.log(df[\"Population\"])"
   ]
  },
  {
   "cell_type": "code",
   "execution_count": 532,
   "metadata": {},
   "outputs": [
    {
     "data": {
      "image/png": "[encoded data removed]",
      "text/plain": [
       "<matplotlib.figure.Figure at 0x11713da20>"
      ]
     },
     "metadata": {},
     "output_type": "display_data"
    }
   ],
   "source": [
    "#Log the population crime variable \n",
    "plt.rcParams['figure.figsize'] = (6.0, 3.0)\n",
    "population = pd.DataFrame({\"Property Crime\":df[\"Property_Crime\"], \"log(property crime+1)\":np.log1p(df[\"Property_Crime\"])})\n",
    "population.hist(bins = 10)\n",
    "df['Property_Crime'] = np.log1p(df[\"Property_Crime\"])"
   ]
  },
  {
   "cell_type": "code",
   "execution_count": null,
   "metadata": {},
   "outputs": [],
   "source": []
  },
  {
   "cell_type": "code",
   "execution_count": null,
   "metadata": {},
   "outputs": [],
   "source": []
  },
  {
   "cell_type": "code",
   "execution_count": 538,
   "metadata": {},
   "outputs": [],
   "source": [
    "#Comparing Regression Models"
   ]
  },
  {
   "cell_type": "code",
   "execution_count": 539,
   "metadata": {},
   "outputs": [
    {
     "name": "stdout",
     "output_type": "stream",
     "text": [
      "Optimization terminated successfully.\n",
      "         Current function value: 0.431965\n",
      "         Iterations 9\n",
      "                           Logit Regression Results                           \n",
      "==============================================================================\n",
      "Dep. Variable:             Murder_Cat   No. Observations:                  290\n",
      "Model:                          Logit   Df Residuals:                      286\n",
      "Method:                           MLE   Df Model:                            3\n",
      "Date:                Thu, 21 Dec 2017   Pseudo R-squ.:                  0.3401\n",
      "Time:                        16:02:41   Log-Likelihood:                -125.27\n",
      "converged:                       True   LL-Null:                       -189.83\n",
      "                                        LLR p-value:                 8.336e-28\n",
      "=======================================================================================\n",
      "                          coef    std err          z      P>|z|      [0.025      0.975]\n",
      "---------------------------------------------------------------------------------------\n",
      "Population             -0.2158      0.025     -8.649      0.000      -0.265      -0.167\n",
      "Motor_Vehicle_Theft     0.0048      0.008      0.606      0.544      -0.011       0.021\n",
      "Robbery                 0.0335      0.013      2.565      0.010       0.008       0.059\n",
      "Arson                   0.2550      0.103      2.475      0.013       0.053       0.457\n",
      "=======================================================================================\n"
     ]
    },
    {
     "name": "stderr",
     "output_type": "stream",
     "text": [
      "/Library/Frameworks/Python.framework/Versions/3.6/lib/python3.6/site-packages/ipykernel_launcher.py:18: SettingWithCopyWarning: \n",
      "A value is trying to be set on a copy of a slice from a DataFrame.\n",
      "Try using .loc[row_indexer,col_indexer] = value instead\n",
      "\n",
      "See the caveats in the documentation: http://pandas.pydata.org/pandas-docs/stable/indexing.html#indexing-view-versus-copy\n"
     ]
    }
   ],
   "source": [
    "#Logistic Regression\n",
    "import statsmodels.api as sm\n",
    "from sklearn.linear_model import LogisticRegression\n",
    "from scipy import stats\n",
    "stats.chisqprob = lambda chisq, df: stats.chi2.sf(chisq, df)\n",
    "\n",
    "lr = LogisticRegression(C=1e9)\n",
    "y = df['Murder_Cat']\n",
    "X = df[['Population',\n",
    "   'Motor_Vehicle_Theft','Robbery','Arson']]\n",
    "\n",
    "# Declare predictors.\n",
    "X_statsmod = df[['Population',\n",
    "   'Motor_Vehicle_Theft','Robbery','Arson']]\n",
    "\n",
    "# The Statsmodels formulation requires a column with constant value 1 that\n",
    "# will act as the intercept.\n",
    "X_statsmod['intercept'] = 1 \n",
    "\n",
    "# Declare and fit the model.\n",
    "logit_model=sm.Logit(y,X)\n",
    "result=logit_model.fit()\n",
    "print(result.summary())"
   ]
  },
  {
   "cell_type": "code",
   "execution_count": 540,
   "metadata": {},
   "outputs": [
    {
     "name": "stdout",
     "output_type": "stream",
     "text": [
      "Accuracy of logistic regression classifier on test set: 0.72\n"
     ]
    }
   ],
   "source": [
    "X_train, X_test, y_train, y_test = train_test_split(X, y, test_size=0.2, random_state=0)\n",
    "from sklearn.linear_model import LogisticRegression\n",
    "from sklearn import metrics\n",
    "logreg = LogisticRegression()\n",
    "logreg.fit(X_train, y_train)\n",
    "\n",
    "y_pred = logreg.predict(X_test)\n",
    "print('Accuracy of logistic regression classifier on test set: {:.2f}'.format(logreg.score(X_test, y_test)))"
   ]
  },
  {
   "cell_type": "code",
   "execution_count": 541,
   "metadata": {},
   "outputs": [
    {
     "name": "stdout",
     "output_type": "stream",
     "text": [
      "10-fold cross validation average accuracy: 0.827\n"
     ]
    }
   ],
   "source": [
    "#Cross Validation\n",
    "from sklearn import model_selection\n",
    "from sklearn.model_selection import cross_val_score\n",
    "kfold = model_selection.KFold(n_splits=10, random_state=7)\n",
    "modelCV = LogisticRegression()\n",
    "scoring = 'accuracy'\n",
    "results = model_selection.cross_val_score(modelCV, X_train, y_train, cv=kfold, scoring=scoring)\n",
    "print(\"10-fold cross validation average accuracy: %.3f\" % (results.mean()))"
   ]
  },
  {
   "cell_type": "code",
   "execution_count": 542,
   "metadata": {},
   "outputs": [
    {
     "name": "stdout",
     "output_type": "stream",
     "text": [
      "\n",
      "R-squared simple model:\n",
      "0.349097436958\n",
      "\n",
      "R-squared complex model:\n",
      "0.499718083325\n",
      "\n",
      "Parameter Estimates for the same predictors for the small model and large model:\n",
      "[[0.160 8.212]\n",
      " [0.000 0.006]\n",
      " [-0.000 0.006]\n",
      " [0.004 0.028]\n",
      " [-1.170 19.134]]\n"
     ]
    }
   ],
   "source": [
    "#Define the training and test sizes\n",
    "trainsize = int(df.shape[0]*0.8)  \n",
    "df_test = df.iloc[trainsize:, :].copy() \n",
    "df_train = df.iloc[:trainsize, :].copy()\n",
    "\n",
    "#Set up regression model to predict defaults using all other variables as features\n",
    "regr1 = linear_model.LinearRegression()\n",
    "Y_train = df_train['Murder_Cat'].values.reshape(-1, 1)\n",
    "X_train = df_train[['Population',\n",
    "   'Motor_Vehicle_Theft','Robbery','Arson']]\n",
    "regr1.fit(X_train, Y_train)\n",
    "print('\\nR-squared simple model:')\n",
    "print(regr1.score(X_train, Y_train))\n",
    "\n",
    "#Store the parameter estimates.\n",
    "origparams = np.append(regr1.coef_, regr1.intercept_) \n",
    "\n",
    "# Make new features to capture potential quadratic and cubic relationships\n",
    "# between the features.\n",
    "\n",
    "df_train['Population_Arson'] = df_train['Population'] * df_train['Arson'] \n",
    "df_train['Population_Motor_Vehicle_Theft'] = df_train['Population'] * df_train['Motor_Vehicle_Theft']\n",
    "df_train['Population_Robbery'] = df_train['Population'] * df_train['Robbery'] \n",
    "df_train['Robbery_Arson'] = df_train['Robbery'] * df_train['Arson']\n",
    "df_train['Motor_Vehicle_Theft_Arson'] = df_train['Motor_Vehicle_Theft'] * df_train['Arson']\n",
    "df_train['Motor_Vehicle_Theft_Robbery'] = df_train['Motor_Vehicle_Theft'] * df_train['Robbery']\n",
    "df_train['Arson_Sqrt'] = df_train['Arson'] ** 0.5\n",
    "df_train['Arson2'] = df_train['Arson'] ** 2\n",
    "df_train['Arson3'] = df_train['Arson'] ** 3\n",
    "df_train['Robbery_Sqrt'] = df_train['Robbery'] ** 0.5\n",
    "df_train['Robbery2'] = df_train['Robbery'] ** 2\n",
    "df_train['Robbery3'] = df_train['Robbery'] ** 3\n",
    "df_train['Population_Sqrt'] = df_train['Population'] ** 0.5\n",
    "df_train['Population2'] = df_train['Population'] ** 2\n",
    "df_train['Population3'] = df_train['Population'] ** 3\n",
    "\n",
    "                             \n",
    "# Re-run the model with the new features.\n",
    "regrBig = linear_model.LinearRegression()\n",
    "X_train2 = df_train[['Population','Motor_Vehicle_Theft','Robbery','Arson',\n",
    "                     'Population_Arson',\n",
    "                     'Population_Motor_Vehicle_Theft', 'Population_Robbery','Robbery_Arson',\n",
    "                     'Motor_Vehicle_Theft_Arson','Motor_Vehicle_Theft_Robbery',\n",
    "                     'Arson_Sqrt','Arson2','Arson3',\n",
    "                     'Robbery_Sqrt','Robbery2','Robbery3',\n",
    "                     'Population_Sqrt','Population2','Population3'\n",
    "                    ]]\n",
    "regrBig.fit(X_train2, Y_train)\n",
    "print('\\nR-squared complex model:')\n",
    "print(regrBig.score(X_train2, Y_train))\n",
    "\n",
    "# Store the new parameter estimates for the same features.\n",
    "newparams = np.append(\n",
    "    regrBig.coef_[0,0:(len(origparams)-1)],\n",
    "    regrBig.intercept_)\n",
    "\n",
    "print('\\nParameter Estimates for the same predictors for the small model '\n",
    "      'and large model:')\n",
    "compare = np.column_stack((origparams, newparams))\n",
    "prettycompare = np.array2string(\n",
    "    compare,\n",
    "    formatter={'float_kind':'{0:.3f}'.format})\n",
    "print(prettycompare)"
   ]
  },
  {
   "cell_type": "code",
   "execution_count": 543,
   "metadata": {},
   "outputs": [
    {
     "name": "stdout",
     "output_type": "stream",
     "text": [
      "\n",
      "R-squared simple model:\n",
      "-0.00969290051794\n",
      "\n",
      "R-squared complex model:\n",
      "0.216868486617\n"
     ]
    }
   ],
   "source": [
    "# Test the simpler model with smaller coefficients.\n",
    "Y_test = df_test['Murder'].values.reshape(-1, 1)\n",
    "X_test = df_test[['Population',\n",
    "   'Motor_Vehicle_Theft','Robbery','Arson']]\n",
    "print('\\nR-squared simple model:')\n",
    "print(regr1.score(X_test, Y_test))\n",
    "\n",
    "# Test the more complex model with larger coefficients.\n",
    "df_test['Population_Arson'] = df_test['Population'] * df_test['Arson'] \n",
    "df_test['Population_Motor_Vehicle_Theft'] = df_test['Population'] * df_test['Motor_Vehicle_Theft']\n",
    "df_test['Population_Robbery'] = df_test['Population'] * df_test['Robbery'] \n",
    "df_test['Robbery_Arson'] = df_test['Robbery'] * df_test['Arson']\n",
    "df_test['Motor_Vehicle_Theft_Arson'] = df_test['Motor_Vehicle_Theft'] * df_test['Arson']\n",
    "df_test['Motor_Vehicle_Theft_Robbery'] = df_test['Motor_Vehicle_Theft'] * df_test['Robbery']\n",
    "df_test['Arson_Sqrt'] = df_test['Arson'] ** 0.5\n",
    "df_test['Arson2'] = df_test['Arson'] ** 2\n",
    "df_test['Arson3'] = df_test['Arson'] ** 3\n",
    "df_test['Robbery_Sqrt'] = df_test['Robbery'] ** 0.5\n",
    "df_test['Robbery2'] = df_test['Robbery'] ** 2\n",
    "df_test['Robbery3'] = df_test['Robbery'] ** 3\n",
    "df_test['Population_Sqrt'] = df_test['Population'] ** 0.5\n",
    "df_test['Population2'] = df_test['Population'] ** 2\n",
    "df_test['Population3'] = df_test['Population'] ** 3\n",
    "\n",
    "\n",
    "# Re-run the model with the new features.\n",
    "X_test2 = df_test[['Population','Motor_Vehicle_Theft','Robbery','Arson',\n",
    "                     'Population_Arson',\n",
    "                     'Population_Motor_Vehicle_Theft', 'Population_Robbery','Robbery_Arson',\n",
    "                     'Motor_Vehicle_Theft_Arson','Motor_Vehicle_Theft_Robbery',\n",
    "                     'Arson_Sqrt','Arson2','Arson3',\n",
    "                     'Robbery_Sqrt','Robbery2','Robbery3',\n",
    "                     'Population_Sqrt','Population2','Population3']]\n",
    "print('\\nR-squared complex model:')\n",
    "print(regrBig.score(X_test2, Y_test))"
   ]
  },
  {
   "cell_type": "code",
   "execution_count": null,
   "metadata": {},
   "outputs": [],
   "source": []
  },
  {
   "cell_type": "code",
   "execution_count": 544,
   "metadata": {
    "scrolled": true
   },
   "outputs": [
    {
     "name": "stdout",
     "output_type": "stream",
     "text": [
      "0.230609121928\n",
      "[ 0.03222836  0.00112046 -0.0007426   0.00760875]\n",
      "0.498478449769\n",
      "\n",
      "Parameter Estimates for the same predictors for the small model and large model\n",
      "[[0.032 0.015]\n",
      " [0.001 0.004]\n",
      " [-0.001 0.006]\n",
      " [0.008 0.017]]\n"
     ]
    },
    {
     "name": "stderr",
     "output_type": "stream",
     "text": [
      "/Library/Frameworks/Python.framework/Versions/3.6/lib/python3.6/site-packages/scipy/linalg/basic.py:40: RuntimeWarning: scipy.linalg.solve\n",
      "Ill-conditioned matrix detected. Result is not guaranteed to be accurate.\n",
      "Reciprocal condition number/precision: 7.771853896224095e-20 / 1.1102230246251565e-16\n",
      "  RuntimeWarning)\n"
     ]
    }
   ],
   "source": [
    "# Fitting a ridge regression model. \n",
    "ridgeregr = linear_model.Ridge(alpha=10, fit_intercept=False)\n",
    "ridgeregr.fit(X_train, Y_train)\n",
    "print(ridgeregr.score(X_train, Y_train))\n",
    "origparams = ridgeregr.coef_[0]\n",
    "print(origparams)\n",
    "\n",
    "ridgeregrBig = linear_model.Ridge(alpha=10, fit_intercept=False)\n",
    "ridgeregrBig.fit(X_train2, Y_train)\n",
    "print(ridgeregrBig.score(X_train2, Y_train))\n",
    "newparams = ridgeregrBig.coef_[0, 0:len(origparams)]\n",
    "print('\\nParameter Estimates for the same predictors for the small model and large model')\n",
    "compare = np.column_stack((origparams, newparams))\n",
    "prettycompare = np.array2string(compare,\n",
    "                               formatter = {'float_kind':'{0:.3f}'.format})\n",
    "print(prettycompare)"
   ]
  },
  {
   "cell_type": "code",
   "execution_count": 545,
   "metadata": {},
   "outputs": [
    {
     "name": "stdout",
     "output_type": "stream",
     "text": [
      "-0.00832105549589\n",
      "0.158890853124\n"
     ]
    }
   ],
   "source": [
    "#Print Predictive power\n",
    "print(ridgeregr.score(X_test, Y_test))\n",
    "print(ridgeregrBig.score(X_test2, Y_test))"
   ]
  },
  {
   "cell_type": "code",
   "execution_count": 546,
   "metadata": {},
   "outputs": [],
   "source": [
    "#Lasso Regression"
   ]
  },
  {
   "cell_type": "code",
   "execution_count": 547,
   "metadata": {},
   "outputs": [
    {
     "name": "stdout",
     "output_type": "stream",
     "text": [
      "R² for the model with few features:\n",
      "0.14471774637\n",
      "\n",
      "Parameter estimates for the model with few features:\n",
      "[ 0.          0.00069752  0.          0.          0.28998008]\n",
      "\n",
      "R² for the model with many features:\n",
      "0.44361515851\n",
      "\n",
      "Parameter estimates for the model with many features:\n",
      "[  0.00000000e+00   0.00000000e+00   0.00000000e+00   0.00000000e+00\n",
      "   0.00000000e+00   8.78686988e-05   3.46361355e-04  -4.55636930e-05\n",
      "   0.00000000e+00  -4.54951374e-06   0.00000000e+00   0.00000000e+00\n",
      "   6.77174313e-06   0.00000000e+00  -1.40014837e-06   1.72537923e-09\n",
      "   0.00000000e+00   0.00000000e+00   2.24947874e-04   1.42606086e-03]\n"
     ]
    },
    {
     "name": "stderr",
     "output_type": "stream",
     "text": [
      "/Library/Frameworks/Python.framework/Versions/3.6/lib/python3.6/site-packages/sklearn/linear_model/coordinate_descent.py:491: ConvergenceWarning: Objective did not converge. You might want to increase the number of iterations. Fitting data with very small alpha may cause precision problems.\n",
      "  ConvergenceWarning)\n"
     ]
    }
   ],
   "source": [
    "#Small number of parameters\n",
    "lass = linear_model.Lasso(alpha=10)\n",
    "lassfit = lass.fit(X_train, Y_train)\n",
    "print('R² for the model with few features:')\n",
    "print(lass.score(X_train, Y_train))\n",
    "origparams = np.append(lassfit.coef_, lassfit.intercept_)\n",
    "print('\\nParameter estimates for the model with few features:')\n",
    "print(origparams)\n",
    "\n",
    "#Large number of parameters.\n",
    "lassBig = linear_model.Lasso(alpha=10)\n",
    "lassBig.fit(X_train2, Y_train)\n",
    "print('\\nR² for the model with many features:')\n",
    "print(lassBig.score(X_train2, Y_train))\n",
    "origparams = np.append(lassBig.coef_, lassBig.intercept_)\n",
    "print('\\nParameter estimates for the model with many features:')\n",
    "print(origparams)"
   ]
  },
  {
   "cell_type": "code",
   "execution_count": 548,
   "metadata": {},
   "outputs": [
    {
     "name": "stdout",
     "output_type": "stream",
     "text": [
      "-0.0507830769657\n",
      "0.0835782771092\n"
     ]
    }
   ],
   "source": [
    "#Print Predictive power\n",
    "print(lass.score(X_test, Y_test))\n",
    "print(lassBig.score(X_test2, Y_test))"
   ]
  },
  {
   "cell_type": "code",
   "execution_count": null,
   "metadata": {},
   "outputs": [],
   "source": [
    "#Logistic Regression was the better model for this binary outcome.\n",
    "#Ridge would work extremely well for highly correlated features, but in this case this does not seem to be the case.\n",
    "#Lasso would work well for dealing with extreme number of features."
   ]
  },
  {
   "cell_type": "code",
   "execution_count": null,
   "metadata": {},
   "outputs": [],
   "source": [
    "#Strengths of Regression\n",
    "#Useful to identify which variable is related to the dependent variable.\n",
    "#Useful for predictive analysis.\n",
    "\n",
    "#Limitations of Regression\n",
    "#Sensitive to outliers\n"
   ]
  }
 ],
 "metadata": {
  "kernelspec": {
   "display_name": "Python 3",
   "language": "python",
   "name": "python3"
  },
  "language_info": {
   "codemirror_mode": {
    "name": "ipython",
    "version": 3
   },
   "file_extension": ".py",
   "mimetype": "text/x-python",
   "name": "python",
   "nbconvert_exporter": "python",
   "pygments_lexer": "ipython3",
   "version": "3.6.3"
  }
 },
 "nbformat": 4,
 "nbformat_minor": 2
}
